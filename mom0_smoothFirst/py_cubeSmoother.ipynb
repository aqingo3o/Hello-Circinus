{
 "cells": [
  {
   "cell_type": "markdown",
   "id": "f0977d8f",
   "metadata": {},
   "source": [
    "### cubeSmoother()\n",
    "核心部分來自 do_smooth  \n",
    "輸入目標 cube 路徑、目標波束以及輸出檔案名稱  \n",
    "就會進行統一解析度的卷積動作，並生成新的 cube，並存成 FITS 檔。\n",
    "\n",
    "註：雖然說是即食，但因為是處理 cube，所以要好一會兒(<7min)\n",
    "\n",
    "**重要修復！！**  \n",
    "0802 新增了修改標頭的部分\n",
    "將會依照譜線，寫入正確的 RESTFREQ  \n",
    "必須一個譜線一個 cube 理由出現了！\n",
    "修改 RESTFREQ 的部分將在新產生的 FITTS 上執行  \n",
    "不會動到原本的檔案"
   ]
  },
  {
   "cell_type": "code",
   "execution_count": null,
   "id": "934e67ca",
   "metadata": {},
   "outputs": [],
   "source": [
    "# core\n",
    "from casatasks import importfits, imsmooth, imhead, exportfits\n",
    "import shutil\n",
    "commonPath = '/Users/aqing/Documents/1004/Circinus_galaxy/Ratio-Map/mvp_smoothFirst/0_cube_ori/'\n",
    "\n",
    "'''\n",
    "方便的用 imsmooth() 處理 FITS 的函式\n",
    "建議以變數傳入 pathIN, tarBeam, fitsOUT\n",
    "\n",
    "parameters:\n",
    "pathIN (str)   : 原來那cube 的檔案位置\n",
    "kernel (str)   : 我是都卷 Gausssian kernel 啦\n",
    "tarBeam (Beam) : 目標波束，格式如範例\n",
    "fitsOUT (str)  : 輸出檔案的名字，雖然很意外但不可以包含括號\n",
    "f0 (number)    : 要修改的 rest frequency，單位是 Hz，這邊輸入數字，函式裡面有轉字串的部分了\n",
    "'''\n",
    "\n",
    "\n",
    "def Align_cubes(pathIN, kernel, tarBeam, fitsOUT, f0) : # 因為又統一解析度又改寫標頭，所以叫命名為對齊\n",
    "    importfits(fitsimage=pathIN, imagename='casaIN.image', overwrite=True) \n",
    "    print('tataima!')\n",
    "    imsmooth(imagename='casaIN.image', outfile='casaOUT.image', kernel=kernel, beam=tarBeam, targetres=True, overwrite=True)\n",
    "    imhead(imagename='casaOUT.image', mode='put', hdkey='restfreq', hdvalue=str(f0)) # 資料型態竟然要是字串，不客氣，幫轉了\n",
    "    print(f\"Header keyWord 'RESTFREQ' now is {f0} Hz\") \n",
    "    exportfits(imagename='casaOUT.image', fitsimage=fitsOUT, overwrite=True)\n",
    "    shutil.rmtree('casaIN.image')\n",
    "    shutil.rmtree('casaOUT.image')\n",
    "    print('Metafiles cleaned')"
   ]
  },
  {
   "cell_type": "code",
   "execution_count": 9,
   "id": "344ceb81",
   "metadata": {},
   "outputs": [
    {
     "name": "stdout",
     "output_type": "stream",
     "text": [
      "tataima!\n",
      "Metafiles cleaned\n"
     ]
    }
   ],
   "source": [
    "# CO \n",
    "# 因為先切過了，所以可以在這邊進行卷積\n",
    "path = f'{commonPath}cube_Band3b_114.02-115.89GHz_cropped.fits'\n",
    "out = 'CO-1-0_cube_smoothed-4545.fits'\n",
    "tarBeam = {'major': '4.5arcsec', 'minor': '4.5arcsec', 'pa': '0deg'}\n",
    "Align_cubes(path, 'g', tarBeam, out, 1.15271E+11)"
   ]
  },
  {
   "cell_type": "code",
   "execution_count": 10,
   "id": "70607326",
   "metadata": {},
   "outputs": [
    {
     "name": "stdout",
     "output_type": "stream",
     "text": [
      "tataima!\n",
      "Metafiles cleaned\n"
     ]
    }
   ],
   "source": [
    "# HCN(1-0)\n",
    "path = f'{commonPath}cube_Band3a_87.47-89.34GHz.fits'\n",
    "out = 'HCN-1-0_cube_smoothed-4545.fits'\n",
    "tarBeam = {'major': '4.5arcsec', 'minor': '4.5arcsec', 'pa': '0deg'}\n",
    "Align_cubes(path, 'g', tarBeam, out, 8.863E+10)"
   ]
  },
  {
   "cell_type": "code",
   "execution_count": null,
   "id": "0b0d0a69",
   "metadata": {},
   "outputs": [],
   "source": [
    "# CN(J12-12)\n",
    "path = f'{commonPath}cube_Band3a_111.39-113.27GHz.fits'\n",
    "out = 'CN-J12-12_cube_smoothed-3131.fits'\n",
    "tarBeam = {'major': '3.1arcsec', 'minor': '3.1arcsec', 'pa': '0deg'}\n",
    "Align_cubes(path, 'g', tarBeam, out, 1.1314E+11)"
   ]
  },
  {
   "cell_type": "code",
   "execution_count": 11,
   "id": "d8b846b2",
   "metadata": {},
   "outputs": [
    {
     "name": "stdout",
     "output_type": "stream",
     "text": [
      "tataima!\n",
      "Metafiles cleaned\n"
     ]
    }
   ],
   "source": [
    "# CN(J12-12)\n",
    "path = f'{commonPath}cube_Band3a_111.39-113.27GHz.fits'\n",
    "out = 'CN-J12-12_cube_smoothed-4545.fits'\n",
    "tarBeam = {'major': '4.5arcsec', 'minor': '4.5arcsec', 'pa': '0deg'}\n",
    "Align_cubes(path, 'g', tarBeam, out, 1.1314E+11)"
   ]
  },
  {
   "cell_type": "code",
   "execution_count": 12,
   "id": "28e543fb",
   "metadata": {},
   "outputs": [
    {
     "name": "stderr",
     "output_type": "stream",
     "text": [
      "....10....20....30....40....50....60....70....80....90....100%\n"
     ]
    },
    {
     "name": "stdout",
     "output_type": "stream",
     "text": [
      "tataima!\n",
      "Metafiles cleaned\n"
     ]
    }
   ],
   "source": [
    "# CN(J32-12)\n",
    "path = f'{commonPath}cube_Band3b_112.32-114.20GHz.fits' # 欸哈哈這個意外的很大\n",
    "out = 'CN-J32-12_cube_smoothed-4545.fits'\n",
    "tarBeam = {'major': '4.5arcsec', 'minor': '4.5arcsec', 'pa': '0deg'}\n",
    "Align_cubes(path, 'g', tarBeam, out, 1.1349E+11)"
   ]
  },
  {
   "cell_type": "code",
   "execution_count": null,
   "id": "78054a7f",
   "metadata": {},
   "outputs": [],
   "source": [
    "# HNC(1-0)\n",
    "path = f'{commonPath}cube_Band3a_89.17-91.05GHz.fits'\n",
    "out = 'HNC-1-0_cube_smoothed-3838.fits'\n",
    "tarBeam = {'major': '3.8arcsec', 'minor': '3.8arcsec', 'pa': '0deg'}\n",
    "Align_cubes(path, 'g', tarBeam, out, 9.066E+10)"
   ]
  },
  {
   "cell_type": "code",
   "execution_count": 13,
   "id": "e465aed2",
   "metadata": {},
   "outputs": [
    {
     "name": "stdout",
     "output_type": "stream",
     "text": [
      "tataima!\n",
      "Metafiles cleaned\n"
     ]
    }
   ],
   "source": [
    "# HNC(1-0)\n",
    "path = f'{commonPath}cube_Band3a_89.17-91.05GHz.fits'\n",
    "out = 'HNC-1-0_cube_smoothed-4545.fits'\n",
    "tarBeam = {'major': '4.5arcsec', 'minor': '4.5arcsec', 'pa': '0deg'}\n",
    "Align_cubes(path, 'g', tarBeam, out, 9.066E+10)"
   ]
  },
  {
   "cell_type": "code",
   "execution_count": null,
   "id": "5bec1d6c",
   "metadata": {},
   "outputs": [
    {
     "name": "stdout",
     "output_type": "stream",
     "text": [
      "tataima!\n",
      "Metafiles cleaned\n"
     ]
    }
   ],
   "source": [
    "# CS(J2-1)\n",
    "path = f'{commonPath}cube_Band3a_97.77-99.65GHz.fits'\n",
    "out = 'CS-J2-1_cube_smoothed-4545.fits'\n",
    "tarBeam = {'major': '4.5arcsec', 'minor': '4.5arcsec', 'pa': '0deg'}\n",
    "Align_cubes(path, 'g', tarBeam, out, 9.798E+10)"
   ]
  }
 ],
 "metadata": {
  "kernelspec": {
   "display_name": "astro_py310",
   "language": "python",
   "name": "python3"
  },
  "language_info": {
   "codemirror_mode": {
    "name": "ipython",
    "version": 3
   },
   "file_extension": ".py",
   "mimetype": "text/x-python",
   "name": "python",
   "nbconvert_exporter": "python",
   "pygments_lexer": "ipython3",
   "version": "3.10.18"
  }
 },
 "nbformat": 4,
 "nbformat_minor": 5
}
