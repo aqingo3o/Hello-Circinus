{
 "cells": [
  {
   "cell_type": "markdown",
   "id": "f0977d8f",
   "metadata": {},
   "source": [
    "### cubeSmoother()\n",
    "輸入目標 cube 路徑、目標波束以及輸出檔案名稱  \n",
    "來自 instant_smooth\n",
    "\n",
    "註：雖然說是即食，但因為是處理 cube，所以要好一會兒(<7min)"
   ]
  },
  {
   "cell_type": "code",
   "execution_count": 12,
   "id": "934e67ca",
   "metadata": {},
   "outputs": [],
   "source": [
    "# core\n",
    "from casatasks import importfits, imsmooth, exportfits\n",
    "import shutil\n",
    "\n",
    "'''\n",
    "方便的用 imsmooth() 處理 FITS 的函式\n",
    "建議以變數傳入 pathIN, tarBeam, fitsOUT\n",
    "'''\n",
    "\n",
    "def Do_smooth(pathIN, kernel, tarBeam, fitsOUT) :\n",
    "    importfits(fitsimage=pathIN, imagename='casaIN.image', overwrite=True) \n",
    "    print('tataima!')\n",
    "    imsmooth(imagename='casaIN.image', outfile='casaOUT.image', kernel=kernel, beam=tarBeam, targetres=True, overwrite=True)\n",
    "    exportfits(imagename='casaOUT.image', fitsimage=fitsOUT, overwrite=True)\n",
    "    shutil.rmtree('casaIN.image')\n",
    "    shutil.rmtree('casaOUT.image')\n",
    "    print('Metafiles cleaned')"
   ]
  },
  {
   "cell_type": "code",
   "execution_count": null,
   "id": "344ceb81",
   "metadata": {},
   "outputs": [],
   "source": [
    "# CO 請到有巨大 RAM 的電腦做\n",
    "# 爆破爆破大腦\n",
    "path = '/Users/aqing/Documents/1004/Circinus_galaxy/Ratio-Map/mvpData/mom0_smoothFirst/cube_ori/cube_Band3b_114.02-115.89GHz.fits'\n",
    "out = 'CO(1-0)_cube_smoothed(4545).fits'\n",
    "tarBeam = {'major': '4.5arcsec', 'minor': '4.5arcsec', 'pa': '0deg'}\n",
    "Do_smooth(path, 'g', tarBeam, out)"
   ]
  },
  {
   "cell_type": "code",
   "execution_count": null,
   "id": "70607326",
   "metadata": {},
   "outputs": [
    {
     "name": "stdout",
     "output_type": "stream",
     "text": [
      "tataima!\n",
      "Metafiles cleaned\n"
     ]
    }
   ],
   "source": [
    "# HCN(1-0) (fin)\n",
    "path = '/Users/aqing/Documents/1004/Circinus_galaxy/Ratio-Map/mvpData/mom0_smoothFirst/cube_ori/cube_Band3a_87.47-89.34GHz.fits'\n",
    "out = 'HCN1-0_cube_smoothed4545.fits'\n",
    "tarBeam = {'major': '4.5arcsec', 'minor': '4.5arcsec', 'pa': '0deg'}\n",
    "Do_smooth(path, 'g', tarBeam, out)"
   ]
  },
  {
   "cell_type": "code",
   "execution_count": 13,
   "id": "0b0d0a69",
   "metadata": {},
   "outputs": [
    {
     "name": "stdout",
     "output_type": "stream",
     "text": [
      "tataima!\n"
     ]
    },
    {
     "name": "stderr",
     "output_type": "stream",
     "text": [
      "2025-07-17 12:12:19\tWARN\timsmooth::Image2DConvolver::_dealWithRestoringBeam\tFitted restoring beam is major: 3.09969 arcsec, minor: 3.09482 arcsec, pa: 48.5374 deg, but putting requested target resolution beam major: 3.1 arcsec, minor: 3.1 arcsec, pa: 0 deg in the image metadata. Both beams may be considered consistent with the convolution result.\n"
     ]
    },
    {
     "name": "stdout",
     "output_type": "stream",
     "text": [
      "Metafiles cleaned\n"
     ]
    }
   ],
   "source": [
    "# CN(J12-12) (fin)\n",
    "path = '/Users/aqing/Documents/1004/Circinus_galaxy/Ratio-Map/mvpData/mom0_smoothFirst/cube_ori/cube_Band3a_111.39-113.27GHz.fits'\n",
    "out = 'CNJ12-12_cube_smoothed3131.fits'\n",
    "tarBeam = {'major': '3.1arcsec', 'minor': '3.1arcsec', 'pa': '0deg'}\n",
    "Do_smooth(path, 'g', tarBeam, out)"
   ]
  },
  {
   "cell_type": "code",
   "execution_count": 16,
   "id": "d8b846b2",
   "metadata": {},
   "outputs": [
    {
     "ename": "KeyboardInterrupt",
     "evalue": "",
     "output_type": "error",
     "traceback": [
      "\u001b[0;31m---------------------------------------------------------------------------\u001b[0m",
      "\u001b[0;31mKeyboardInterrupt\u001b[0m                         Traceback (most recent call last)",
      "Cell \u001b[0;32mIn[16], line 5\u001b[0m\n\u001b[1;32m      3\u001b[0m out \u001b[38;5;241m=\u001b[39m \u001b[38;5;124m'\u001b[39m\u001b[38;5;124mCNJ12-12_cube_smoothed4545.fits\u001b[39m\u001b[38;5;124m'\u001b[39m\n\u001b[1;32m      4\u001b[0m tarBeam \u001b[38;5;241m=\u001b[39m {\u001b[38;5;124m'\u001b[39m\u001b[38;5;124mmajor\u001b[39m\u001b[38;5;124m'\u001b[39m: \u001b[38;5;124m'\u001b[39m\u001b[38;5;124m4.5arcsec\u001b[39m\u001b[38;5;124m'\u001b[39m, \u001b[38;5;124m'\u001b[39m\u001b[38;5;124mminor\u001b[39m\u001b[38;5;124m'\u001b[39m: \u001b[38;5;124m'\u001b[39m\u001b[38;5;124m4.5arcsec\u001b[39m\u001b[38;5;124m'\u001b[39m, \u001b[38;5;124m'\u001b[39m\u001b[38;5;124mpa\u001b[39m\u001b[38;5;124m'\u001b[39m: \u001b[38;5;124m'\u001b[39m\u001b[38;5;124m0deg\u001b[39m\u001b[38;5;124m'\u001b[39m}\n\u001b[0;32m----> 5\u001b[0m \u001b[43mDo_smooth\u001b[49m\u001b[43m(\u001b[49m\u001b[43mpath\u001b[49m\u001b[43m,\u001b[49m\u001b[43m \u001b[49m\u001b[38;5;124;43m'\u001b[39;49m\u001b[38;5;124;43mg\u001b[39;49m\u001b[38;5;124;43m'\u001b[39;49m\u001b[43m,\u001b[49m\u001b[43m \u001b[49m\u001b[43mtarBeam\u001b[49m\u001b[43m,\u001b[49m\u001b[43m \u001b[49m\u001b[43mout\u001b[49m\u001b[43m)\u001b[49m\n",
      "Cell \u001b[0;32mIn[12], line 11\u001b[0m, in \u001b[0;36mDo_smooth\u001b[0;34m(pathIN, kernel, tarBeam, fitsOUT)\u001b[0m\n\u001b[1;32m     10\u001b[0m \u001b[38;5;28;01mdef\u001b[39;00m\u001b[38;5;250m \u001b[39m\u001b[38;5;21mDo_smooth\u001b[39m(pathIN, kernel, tarBeam, fitsOUT) :\n\u001b[0;32m---> 11\u001b[0m     \u001b[43mimportfits\u001b[49m\u001b[43m(\u001b[49m\u001b[43mfitsimage\u001b[49m\u001b[38;5;241;43m=\u001b[39;49m\u001b[43mpathIN\u001b[49m\u001b[43m,\u001b[49m\u001b[43m \u001b[49m\u001b[43mimagename\u001b[49m\u001b[38;5;241;43m=\u001b[39;49m\u001b[38;5;124;43m'\u001b[39;49m\u001b[38;5;124;43mcasaIN.image\u001b[39;49m\u001b[38;5;124;43m'\u001b[39;49m\u001b[43m,\u001b[49m\u001b[43m \u001b[49m\u001b[43moverwrite\u001b[49m\u001b[38;5;241;43m=\u001b[39;49m\u001b[38;5;28;43;01mTrue\u001b[39;49;00m\u001b[43m)\u001b[49m \n\u001b[1;32m     12\u001b[0m     \u001b[38;5;28mprint\u001b[39m(\u001b[38;5;124m'\u001b[39m\u001b[38;5;124mtataima!\u001b[39m\u001b[38;5;124m'\u001b[39m)\n\u001b[1;32m     13\u001b[0m     imsmooth(imagename\u001b[38;5;241m=\u001b[39m\u001b[38;5;124m'\u001b[39m\u001b[38;5;124mcasaIN.image\u001b[39m\u001b[38;5;124m'\u001b[39m, outfile\u001b[38;5;241m=\u001b[39m\u001b[38;5;124m'\u001b[39m\u001b[38;5;124mcasaOUT.image\u001b[39m\u001b[38;5;124m'\u001b[39m, kernel\u001b[38;5;241m=\u001b[39mkernel, beam\u001b[38;5;241m=\u001b[39mtarBeam, targetres\u001b[38;5;241m=\u001b[39m\u001b[38;5;28;01mTrue\u001b[39;00m, overwrite\u001b[38;5;241m=\u001b[39m\u001b[38;5;28;01mTrue\u001b[39;00m)\n",
      "File \u001b[0;32m~/miniconda3_x86/envs/astro_py310/lib/python3.10/site-packages/casatasks/importfits.py:91\u001b[0m, in \u001b[0;36m_importfits.__call__\u001b[0;34m(self, fitsimage, imagename, whichrep, whichhdu, zeroblanks, overwrite, defaultaxes, defaultaxesvalues, beam)\u001b[0m\n\u001b[1;32m     89\u001b[0m task_result \u001b[38;5;241m=\u001b[39m \u001b[38;5;28;01mNone\u001b[39;00m\n\u001b[1;32m     90\u001b[0m \u001b[38;5;28;01mtry\u001b[39;00m:\n\u001b[0;32m---> 91\u001b[0m     task_result \u001b[38;5;241m=\u001b[39m \u001b[43m_importfits_t\u001b[49m\u001b[43m(\u001b[49m\u001b[43m \u001b[49m\u001b[43m_pc\u001b[49m\u001b[38;5;241;43m.\u001b[39;49m\u001b[43mdocument\u001b[49m\u001b[43m[\u001b[49m\u001b[38;5;124;43m'\u001b[39;49m\u001b[38;5;124;43mfitsimage\u001b[39;49m\u001b[38;5;124;43m'\u001b[39;49m\u001b[43m]\u001b[49m\u001b[43m,\u001b[49m\u001b[43m \u001b[49m\u001b[43m_pc\u001b[49m\u001b[38;5;241;43m.\u001b[39;49m\u001b[43mdocument\u001b[49m\u001b[43m[\u001b[49m\u001b[38;5;124;43m'\u001b[39;49m\u001b[38;5;124;43mimagename\u001b[39;49m\u001b[38;5;124;43m'\u001b[39;49m\u001b[43m]\u001b[49m\u001b[43m,\u001b[49m\u001b[43m \u001b[49m\u001b[43m_pc\u001b[49m\u001b[38;5;241;43m.\u001b[39;49m\u001b[43mdocument\u001b[49m\u001b[43m[\u001b[49m\u001b[38;5;124;43m'\u001b[39;49m\u001b[38;5;124;43mwhichrep\u001b[39;49m\u001b[38;5;124;43m'\u001b[39;49m\u001b[43m]\u001b[49m\u001b[43m,\u001b[49m\u001b[43m \u001b[49m\u001b[43m_pc\u001b[49m\u001b[38;5;241;43m.\u001b[39;49m\u001b[43mdocument\u001b[49m\u001b[43m[\u001b[49m\u001b[38;5;124;43m'\u001b[39;49m\u001b[38;5;124;43mwhichhdu\u001b[39;49m\u001b[38;5;124;43m'\u001b[39;49m\u001b[43m]\u001b[49m\u001b[43m,\u001b[49m\u001b[43m \u001b[49m\u001b[43m_pc\u001b[49m\u001b[38;5;241;43m.\u001b[39;49m\u001b[43mdocument\u001b[49m\u001b[43m[\u001b[49m\u001b[38;5;124;43m'\u001b[39;49m\u001b[38;5;124;43mzeroblanks\u001b[39;49m\u001b[38;5;124;43m'\u001b[39;49m\u001b[43m]\u001b[49m\u001b[43m,\u001b[49m\u001b[43m \u001b[49m\u001b[43m_pc\u001b[49m\u001b[38;5;241;43m.\u001b[39;49m\u001b[43mdocument\u001b[49m\u001b[43m[\u001b[49m\u001b[38;5;124;43m'\u001b[39;49m\u001b[38;5;124;43moverwrite\u001b[39;49m\u001b[38;5;124;43m'\u001b[39;49m\u001b[43m]\u001b[49m\u001b[43m,\u001b[49m\u001b[43m \u001b[49m\u001b[43m_pc\u001b[49m\u001b[38;5;241;43m.\u001b[39;49m\u001b[43mdocument\u001b[49m\u001b[43m[\u001b[49m\u001b[38;5;124;43m'\u001b[39;49m\u001b[38;5;124;43mdefaultaxes\u001b[39;49m\u001b[38;5;124;43m'\u001b[39;49m\u001b[43m]\u001b[49m\u001b[43m,\u001b[49m\u001b[43m \u001b[49m\u001b[43m_pc\u001b[49m\u001b[38;5;241;43m.\u001b[39;49m\u001b[43mdocument\u001b[49m\u001b[43m[\u001b[49m\u001b[38;5;124;43m'\u001b[39;49m\u001b[38;5;124;43mdefaultaxesvalues\u001b[39;49m\u001b[38;5;124;43m'\u001b[39;49m\u001b[43m]\u001b[49m\u001b[43m,\u001b[49m\u001b[43m \u001b[49m\u001b[43m_pc\u001b[49m\u001b[38;5;241;43m.\u001b[39;49m\u001b[43mdocument\u001b[49m\u001b[43m[\u001b[49m\u001b[38;5;124;43m'\u001b[39;49m\u001b[38;5;124;43mbeam\u001b[39;49m\u001b[38;5;124;43m'\u001b[39;49m\u001b[43m]\u001b[49m\u001b[43m \u001b[49m\u001b[43m)\u001b[49m\n\u001b[1;32m     92\u001b[0m \u001b[38;5;28;01mexcept\u001b[39;00m \u001b[38;5;167;01mException\u001b[39;00m \u001b[38;5;28;01mas\u001b[39;00m exc:\n\u001b[1;32m     93\u001b[0m     _except_log(\u001b[38;5;124m'\u001b[39m\u001b[38;5;124mimportfits\u001b[39m\u001b[38;5;124m'\u001b[39m, exc)\n",
      "File \u001b[0;32m~/miniconda3_x86/envs/astro_py310/lib/python3.10/site-packages/casatasks/private/task_importfits.py:111\u001b[0m, in \u001b[0;36mimportfits\u001b[0;34m(fitsimage, imagename, whichrep, whichhdu, zeroblanks, overwrite, defaultaxes, defaultaxesvalues, beam)\u001b[0m\n\u001b[1;32m    108\u001b[0m     \u001b[38;5;28;01melse\u001b[39;00m:\n\u001b[1;32m    109\u001b[0m         \u001b[38;5;28;01mraise\u001b[39;00m \u001b[38;5;167;01mTypeError\u001b[39;00m(\u001b[38;5;124m\"\u001b[39m\u001b[38;5;124mParameter beam[\u001b[39m\u001b[38;5;132;01m%s\u001b[39;00m\u001b[38;5;124m] is invalid (major axis must be >= minor axis): \u001b[39m\u001b[38;5;132;01m%s\u001b[39;00m\u001b[38;5;124m\"\u001b[39m \u001b[38;5;241m%\u001b[39m (i,beam))\n\u001b[0;32m--> 111\u001b[0m \u001b[43m_myia\u001b[49m\u001b[38;5;241;43m.\u001b[39;49m\u001b[43mfromfits\u001b[49m\u001b[43m(\u001b[49m\u001b[43mtmpname\u001b[49m\u001b[43m,\u001b[49m\u001b[43mfitsimage\u001b[49m\u001b[43m,\u001b[49m\u001b[43mwhichrep\u001b[49m\u001b[43m,\u001b[49m\u001b[43mwhichhdu\u001b[49m\u001b[43m,\u001b[49m\u001b[43mzeroblanks\u001b[49m\u001b[43m)\u001b[49m\n\u001b[1;32m    112\u001b[0m _myia\u001b[38;5;241m.\u001b[39mclose()\n\u001b[1;32m    114\u001b[0m \u001b[38;5;28;01mif\u001b[39;00m addaxes:\n",
      "File \u001b[0;32m~/miniconda3_x86/envs/astro_py310/lib/python3.10/site-packages/casatools/image.py:471\u001b[0m, in \u001b[0;36mimage.fromfits\u001b[0;34m(self, outfile, infile, whichrep, whichhdu, zeroblanks, overwrite)\u001b[0m\n\u001b[1;32m    449\u001b[0m \u001b[38;5;28;01mdef\u001b[39;00m\u001b[38;5;250m \u001b[39m\u001b[38;5;21mfromfits\u001b[39m(\u001b[38;5;28mself\u001b[39m, outfile\u001b[38;5;241m=\u001b[39m\u001b[38;5;124m'\u001b[39m\u001b[38;5;124m'\u001b[39m, infile\u001b[38;5;241m=\u001b[39m\u001b[38;5;124m'\u001b[39m\u001b[38;5;124m'\u001b[39m, whichrep\u001b[38;5;241m=\u001b[39m\u001b[38;5;28mint\u001b[39m(\u001b[38;5;241m0\u001b[39m), whichhdu\u001b[38;5;241m=\u001b[39m\u001b[38;5;28mint\u001b[39m(\u001b[38;5;241m0\u001b[39m), zeroblanks\u001b[38;5;241m=\u001b[39m\u001b[38;5;28;01mFalse\u001b[39;00m, overwrite\u001b[38;5;241m=\u001b[39m\u001b[38;5;28;01mFalse\u001b[39;00m):\n\u001b[1;32m    450\u001b[0m \u001b[38;5;250m    \u001b[39m\u001b[38;5;124;03m\"\"\"This function is used to convert a FITS disk image file (Float,\u001b[39;00m\n\u001b[1;32m    451\u001b[0m \u001b[38;5;124;03m    Double, Short, Long are supported) to an\u001b[39;00m\n\u001b[1;32m    452\u001b[0m \u001b[38;5;124;03m    casa imagefile.  If {stfaf outfile} is given, the image is written\u001b[39;00m\n\u001b[0;32m   (...)\u001b[0m\n\u001b[1;32m    469\u001b[0m \u001b[38;5;124;03m    need to replace masked pixel values after you have created the image.\u001b[39;00m\n\u001b[1;32m    470\u001b[0m \u001b[38;5;124;03m    \"\"\"\u001b[39;00m\n\u001b[0;32m--> 471\u001b[0m     \u001b[38;5;28;01mreturn\u001b[39;00m \u001b[38;5;28;43mself\u001b[39;49m\u001b[38;5;241;43m.\u001b[39;49m\u001b[43m_swigobj\u001b[49m\u001b[38;5;241;43m.\u001b[39;49m\u001b[43mfromfits\u001b[49m\u001b[43m(\u001b[49m\u001b[43moutfile\u001b[49m\u001b[43m,\u001b[49m\u001b[43m \u001b[49m\u001b[43minfile\u001b[49m\u001b[43m,\u001b[49m\u001b[43m \u001b[49m\u001b[43mwhichrep\u001b[49m\u001b[43m,\u001b[49m\u001b[43m \u001b[49m\u001b[43mwhichhdu\u001b[49m\u001b[43m,\u001b[49m\u001b[43m \u001b[49m\u001b[43mzeroblanks\u001b[49m\u001b[43m,\u001b[49m\u001b[43m \u001b[49m\u001b[43moverwrite\u001b[49m\u001b[43m)\u001b[49m\n",
      "File \u001b[0;32m~/miniconda3_x86/envs/astro_py310/lib/python3.10/site-packages/casatools/__casac__/image.py:969\u001b[0m, in \u001b[0;36mimage.fromfits\u001b[0;34m(self, *args, **kwargs)\u001b[0m\n\u001b[1;32m    904\u001b[0m \u001b[38;5;28;01mdef\u001b[39;00m\u001b[38;5;250m \u001b[39m\u001b[38;5;21mfromfits\u001b[39m(\u001b[38;5;28mself\u001b[39m, \u001b[38;5;241m*\u001b[39margs, \u001b[38;5;241m*\u001b[39m\u001b[38;5;241m*\u001b[39mkwargs):\n\u001b[1;32m    905\u001b[0m \u001b[38;5;250m    \u001b[39m\u001b[38;5;124mr\u001b[39m\u001b[38;5;124;03m\"\"\"\u001b[39;00m\n\u001b[1;32m    906\u001b[0m \u001b[38;5;124;03m    fromfits(self, _outfile=string(\"\"), _infile=string(\"\"), _whichrep=long(0), _whichhdu=long(0), _zeroblanks=bool(false), _overwrite=bool(false)) -> bool\u001b[39;00m\n\u001b[1;32m    907\u001b[0m \n\u001b[0;32m   (...)\u001b[0m\n\u001b[1;32m    967\u001b[0m \n\u001b[1;32m    968\u001b[0m \u001b[38;5;124;03m    \"\"\"\u001b[39;00m\n\u001b[0;32m--> 969\u001b[0m     \u001b[38;5;28;01mreturn\u001b[39;00m \u001b[43m_image\u001b[49m\u001b[38;5;241;43m.\u001b[39;49m\u001b[43mimage_fromfits\u001b[49m\u001b[43m(\u001b[49m\u001b[38;5;28;43mself\u001b[39;49m\u001b[43m,\u001b[49m\u001b[43m \u001b[49m\u001b[38;5;241;43m*\u001b[39;49m\u001b[43margs\u001b[49m\u001b[43m,\u001b[49m\u001b[43m \u001b[49m\u001b[38;5;241;43m*\u001b[39;49m\u001b[38;5;241;43m*\u001b[39;49m\u001b[43mkwargs\u001b[49m\u001b[43m)\u001b[49m\n",
      "\u001b[0;31mKeyboardInterrupt\u001b[0m: "
     ]
    }
   ],
   "source": [
    "# CN(J12-12) (fin)\n",
    "path = '/Users/aqing/Documents/1004/Circinus_galaxy/Ratio-Map/mvpData/mom0_smoothFirst/cube_ori/cube_Band3a_111.39-113.27GHz.fits'\n",
    "out = 'CNJ12-12_cube_smoothed4545.fits'\n",
    "tarBeam = {'major': '4.5arcsec', 'minor': '4.5arcsec', 'pa': '0deg'}\n",
    "Do_smooth(path, 'g', tarBeam, out)"
   ]
  },
  {
   "cell_type": "code",
   "execution_count": 14,
   "id": "78054a7f",
   "metadata": {},
   "outputs": [
    {
     "name": "stdout",
     "output_type": "stream",
     "text": [
      "tataima!\n"
     ]
    },
    {
     "name": "stderr",
     "output_type": "stream",
     "text": [
      "2025-07-17 12:23:09\tWARN\timsmooth::Image2DConvolver::_dealWithRestoringBeam\tFitted restoring beam is major: 3.79987 arcsec, minor: 3.7995 arcsec, pa: 23.1641 deg, but putting requested target resolution beam major: 3.8 arcsec, minor: 3.8 arcsec, pa: 0 deg in the image metadata. Both beams may be considered consistent with the convolution result.\n"
     ]
    },
    {
     "name": "stdout",
     "output_type": "stream",
     "text": [
      "Metafiles cleaned\n"
     ]
    }
   ],
   "source": [
    "# HNC(1-0) (fin)\n",
    "path = '/Users/aqing/Documents/1004/Circinus_galaxy/Ratio-Map/mvpData/mom0_smoothFirst/cube_ori/cube_Band3a_89.17-91.05GHz.fits'\n",
    "out = 'HNC1-0_cube_smoothed3838.fits'\n",
    "tarBeam = {'major': '3.8arcsec', 'minor': '3.8arcsec', 'pa': '0deg'}\n",
    "Do_smooth(path, 'g', tarBeam, out)"
   ]
  },
  {
   "cell_type": "code",
   "execution_count": null,
   "id": "e465aed2",
   "metadata": {},
   "outputs": [
    {
     "name": "stdout",
     "output_type": "stream",
     "text": [
      "tataima!\n",
      "Metafiles cleaned\n"
     ]
    }
   ],
   "source": [
    "# HNC(1-0) (fin)\n",
    "path = '/Users/aqing/Documents/1004/Circinus_galaxy/Ratio-Map/mvpData/mom0_smoothFirst/cube_ori/cube_Band3a_89.17-91.05GHz.fits'\n",
    "out = 'HNC1-0_cube_smoothed4545.fits'\n",
    "tarBeam = {'major': '4.5arcsec', 'minor': '4.5arcsec', 'pa': '0deg'}\n",
    "Do_smooth(path, 'g', tarBeam, out)"
   ]
  },
  {
   "cell_type": "code",
   "execution_count": null,
   "id": "5a5fc3b3",
   "metadata": {},
   "outputs": [],
   "source": []
  }
 ],
 "metadata": {
  "kernelspec": {
   "display_name": "astro_py310",
   "language": "python",
   "name": "python3"
  },
  "language_info": {
   "codemirror_mode": {
    "name": "ipython",
    "version": 3
   },
   "file_extension": ".py",
   "mimetype": "text/x-python",
   "name": "python",
   "nbconvert_exporter": "python",
   "pygments_lexer": "ipython3",
   "version": "3.10.18"
  }
 },
 "nbformat": 4,
 "nbformat_minor": 5
}
