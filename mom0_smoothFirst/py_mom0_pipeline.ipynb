{
 "cells": [
  {
   "cell_type": "markdown",
   "id": "4d9244b6",
   "metadata": {},
   "source": [
    "### 製作 mom0 的流水線\n",
    "他媽的程式就是快啊啊啊啊  \n",
    "這麼多張我都不知道我要 mask 到什麼時候  \n",
    "\n",
    "先在 parti_fileName (還有 pathIN) 那邊設定好檔案路徑，parti_fileName 索引順序要和接下來的倆串列對上  \n",
    "再在 chansL 輸入每個分子要做 momentMap 的頻率範圍，最後在 rmsL 依序輸入每個分子 data cube 的 rms 就可以了。  \n",
    "NsigmaL 是用來放需要幾倍 sigma 的倍，可以隨意增減。"
   ]
  },
  {
   "cell_type": "code",
   "execution_count": 5,
   "id": "3ec96de0",
   "metadata": {},
   "outputs": [],
   "source": [
    "from casatasks import importfits, immoments, exportfits\n",
    "import shutil"
   ]
  },
  {
   "cell_type": "code",
   "execution_count": null,
   "id": "9777c8f6",
   "metadata": {},
   "outputs": [],
   "source": [
    "'''\n",
    "因為程式設計的問題所以很吃原生環境\n",
    "我是說檔案位置的問題...這邊都是用 4545 的 beam 的\n",
    "總之就是有這麼一回事\n",
    "'''\n",
    "parti_fileName = ['HCN-1-0', 'HCO+-1-0', 'CN-J12-12', 'HNC-1-0']\n",
    "chansL = ['1999~2245', '3155~3360', '3230~3400', '2715~2850']\n",
    "rmsL = [8.36e-3, 8.36e-3, 1.17e-2, 7.55e-3] # 應該要跟 RMS 那個整合一下的說\n",
    "NsigmaL = [0, 0.2, 0.4, 0.6, 0.8, 1.0, 1.2, 1.4, 1.6, 1.8, 2.0, 2.2, 2.4, 2.6] # 應該不用這麼大吧"
   ]
  },
  {
   "cell_type": "code",
   "execution_count": 7,
   "id": "f66e941e",
   "metadata": {},
   "outputs": [
    {
     "name": "stdout",
     "output_type": "stream",
     "text": [
      "Start making moment maps of HCN-1-0 !\n",
      "HCN-1-0_mom0_smoothed-4545_sigma0.fits\n",
      "HCN-1-0_mom0_smoothed-4545_sigma0.2.fits\n",
      "HCN-1-0_mom0_smoothed-4545_sigma0.4.fits\n",
      "HCN-1-0_mom0_smoothed-4545_sigma0.6.fits\n",
      "HCN-1-0_mom0_smoothed-4545_sigma0.8.fits\n",
      "HCN-1-0_mom0_smoothed-4545_sigma1.0.fits\n",
      "HCN-1-0_mom0_smoothed-4545_sigma1.2.fits\n",
      "HCN-1-0_mom0_smoothed-4545_sigma1.4.fits\n",
      "HCN-1-0_mom0_smoothed-4545_sigma1.6.fits\n",
      "HCN-1-0_mom0_smoothed-4545_sigma1.8.fits\n",
      "HCN-1-0_mom0_smoothed-4545_sigma2.0.fits\n",
      "HCN-1-0_mom0_smoothed-4545_sigma2.2.fits\n",
      "HCN-1-0_mom0_smoothed-4545_sigma2.4.fits\n",
      "HCN-1-0_mom0_smoothed-4545_sigma2.6.fits\n",
      "Moment maps of HCN-1-0 are all done\n",
      "\n",
      "Start making moment maps of HCO+-1-0 !\n",
      "HCO+-1-0_mom0_smoothed-4545_sigma0.fits\n",
      "HCO+-1-0_mom0_smoothed-4545_sigma0.2.fits\n",
      "HCO+-1-0_mom0_smoothed-4545_sigma0.4.fits\n",
      "HCO+-1-0_mom0_smoothed-4545_sigma0.6.fits\n",
      "HCO+-1-0_mom0_smoothed-4545_sigma0.8.fits\n",
      "HCO+-1-0_mom0_smoothed-4545_sigma1.0.fits\n",
      "HCO+-1-0_mom0_smoothed-4545_sigma1.2.fits\n",
      "HCO+-1-0_mom0_smoothed-4545_sigma1.4.fits\n",
      "HCO+-1-0_mom0_smoothed-4545_sigma1.6.fits\n",
      "HCO+-1-0_mom0_smoothed-4545_sigma1.8.fits\n",
      "HCO+-1-0_mom0_smoothed-4545_sigma2.0.fits\n",
      "HCO+-1-0_mom0_smoothed-4545_sigma2.2.fits\n",
      "HCO+-1-0_mom0_smoothed-4545_sigma2.4.fits\n",
      "HCO+-1-0_mom0_smoothed-4545_sigma2.6.fits\n",
      "Moment maps of HCO+-1-0 are all done\n",
      "\n",
      "Start making moment maps of CN-J12-12 !\n",
      "CN-J12-12_mom0_smoothed-4545_sigma0.fits\n",
      "CN-J12-12_mom0_smoothed-4545_sigma0.2.fits\n",
      "CN-J12-12_mom0_smoothed-4545_sigma0.4.fits\n",
      "CN-J12-12_mom0_smoothed-4545_sigma0.6.fits\n",
      "CN-J12-12_mom0_smoothed-4545_sigma0.8.fits\n",
      "CN-J12-12_mom0_smoothed-4545_sigma1.0.fits\n",
      "CN-J12-12_mom0_smoothed-4545_sigma1.2.fits\n",
      "CN-J12-12_mom0_smoothed-4545_sigma1.4.fits\n",
      "CN-J12-12_mom0_smoothed-4545_sigma1.6.fits\n",
      "CN-J12-12_mom0_smoothed-4545_sigma1.8.fits\n",
      "CN-J12-12_mom0_smoothed-4545_sigma2.0.fits\n",
      "CN-J12-12_mom0_smoothed-4545_sigma2.2.fits\n",
      "CN-J12-12_mom0_smoothed-4545_sigma2.4.fits\n",
      "CN-J12-12_mom0_smoothed-4545_sigma2.6.fits\n",
      "Moment maps of CN-J12-12 are all done\n",
      "\n",
      "Start making moment maps of HNC-1-0 !\n",
      "HNC-1-0_mom0_smoothed-4545_sigma0.fits\n",
      "HNC-1-0_mom0_smoothed-4545_sigma0.2.fits\n",
      "HNC-1-0_mom0_smoothed-4545_sigma0.4.fits\n",
      "HNC-1-0_mom0_smoothed-4545_sigma0.6.fits\n",
      "HNC-1-0_mom0_smoothed-4545_sigma0.8.fits\n",
      "HNC-1-0_mom0_smoothed-4545_sigma1.0.fits\n",
      "HNC-1-0_mom0_smoothed-4545_sigma1.2.fits\n",
      "HNC-1-0_mom0_smoothed-4545_sigma1.4.fits\n",
      "HNC-1-0_mom0_smoothed-4545_sigma1.6.fits\n",
      "HNC-1-0_mom0_smoothed-4545_sigma1.8.fits\n",
      "HNC-1-0_mom0_smoothed-4545_sigma2.0.fits\n",
      "HNC-1-0_mom0_smoothed-4545_sigma2.2.fits\n",
      "HNC-1-0_mom0_smoothed-4545_sigma2.4.fits\n",
      "HNC-1-0_mom0_smoothed-4545_sigma2.6.fits\n",
      "Moment maps of HNC-1-0 are all done\n",
      "\n",
      "FIN\n"
     ]
    }
   ],
   "source": [
    "for f in range(len(parti_fileName)):\n",
    "    pathIN = f'/Users/aqing/Documents/1004/Circinus_galaxy/Ratio-Map/mvp_smoothFirst/1_cube_smoothed/{parti_fileName[f]}_cube_smoothed-4545.fits'\n",
    "    Range = chansL[f]\n",
    "    rms = rmsL[f]\n",
    "    importfits(fitsimage=pathIN, imagename='casaIN.im', overwrite=True) # 這漾一種分子只要 import 一次\n",
    "    print(f'Start making moment maps of {parti_fileName[f]} !')\n",
    "    for i in range(len(NsigmaL)):\n",
    "        lower_lim = rms*NsigmaL[i]\n",
    "        immoments(imagename='casaIN.im', outfile='casaOUT.im', moments=[0], axis='spec', chans=Range, includepix=[lower_lim, 100])\n",
    "        fitsOUT = f'{parti_fileName[f]}_mom0_smoothed-4545_sigma{NsigmaL[i]}.fits'\n",
    "        print(fitsOUT)\n",
    "        exportfits(imagename='casaOUT.im', fitsimage=fitsOUT, overwrite=True)\n",
    "        shutil.rmtree('casaOUT.im') # 雖然 overwrite=True，還是移一下\n",
    "    shutil.rmtree('casaIN.im')\n",
    "    print(f'Moment maps of {parti_fileName[f]} are all done')\n",
    "    print()\n",
    "\n",
    "print('FIN')"
   ]
  }
 ],
 "metadata": {
  "kernelspec": {
   "display_name": "Py(astro_py310)",
   "language": "python",
   "name": "astro_py310"
  },
  "language_info": {
   "codemirror_mode": {
    "name": "ipython",
    "version": 3
   },
   "file_extension": ".py",
   "mimetype": "text/x-python",
   "name": "python",
   "nbconvert_exporter": "python",
   "pygments_lexer": "ipython3",
   "version": "3.10.18"
  }
 },
 "nbformat": 4,
 "nbformat_minor": 5
}
