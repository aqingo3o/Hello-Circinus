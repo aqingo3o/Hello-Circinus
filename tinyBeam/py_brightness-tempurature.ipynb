{
 "cells": [
  {
   "cell_type": "markdown",
   "id": "728c525f",
   "metadata": {},
   "source": [
    "### 好像需要 brightness tempurature?\n",
    "因為要建超簡易模型的話好像需要...  \n",
    "現在沒什麼概念但是這種轉換應該是個比較通用的需求  \n",
    "總之又滾來做了   \n",
    "\n",
    "湯底 = oldData/v2/4_brightnessTemp_ratio/wrr/py_mom0_pipeline_oldData_brightnessTemp.ipynb  \n",
    "\n",
    "但加入的材料(cube)是不一樣的  \n",
    "這邊加入的是精選所有最小的 beam 數據 (沒有smooth過)  \n",
    "順便期望修復一下之前沒解決的問題（即轉換後數值爆炸）\n",
    "\n",
    "0814  \n",
    "好像解決的，但是原理沒有深究"
   ]
  },
  {
   "cell_type": "code",
   "execution_count": null,
   "id": "b4f33aba",
   "metadata": {},
   "outputs": [],
   "source": [
    "from casatasks import importfits, immath, imhead, exportfits\n",
    "import shutil\n",
    "import os\n",
    "import numpy as np"
   ]
  },
  {
   "cell_type": "code",
   "execution_count": null,
   "id": "b0786264",
   "metadata": {},
   "outputs": [
    {
     "data": {
      "text/plain": [
       "'\\n因為這裡都是讀入處理良好的 cube (裁切並且寫入正確的 restfreq)\\n所以可以直接從 header 裡取出 f_r\\n'"
      ]
     },
     "execution_count": 10,
     "metadata": {},
     "output_type": "execute_result"
    }
   ],
   "source": [
    "# costants\n",
    "c = 3e8 # m/s\n",
    "k_B = 1.380649e-23 # J/K\n",
    "\n",
    "\n",
    "'''\n",
    "因為這裡都是讀入處理良好的 cube (裁切並且寫入正確的 restfreq)\n",
    "所以可以直接從 header 裡取出 f_r\n",
    "'''\n",
    "commonPath = '/Users/aqing/Documents/1004/Circinus_galaxy/Ratio-Map/tinyBeam/1_cube_product/cube'\n",
    "# (mole, beam(arcsec))\n",
    "mole_info = [#('CO-1-0', 1.64), #這個忘改標頭了幹\n",
    "        #('CO-2-1', 0.39, '6'), #這個太巨了\n",
    "        ('CO-3-2', 0.29, '7'),\n",
    "        ('HCO+-1-0', 2.89, '3'),\n",
    "        ('HCO+-2-1', 1.32, '5'),\n",
    "        ('HCO+-3-2', 1.47, '6'),\n",
    "        ('HCO+-4-3', 0.29, '7'),\n",
    "        ]"
   ]
  },
  {
   "cell_type": "code",
   "execution_count": null,
   "id": "760767c7",
   "metadata": {},
   "outputs": [
    {
     "name": "stdout",
     "output_type": "stream",
     "text": [
      "Start changing the unit of flux density for CO-3-2's cube.\n",
      "Start changing the unit of flux density for HCO+-1-0's cube.\n",
      "Start changing the unit of flux density for HCO+-2-1's cube.\n",
      "Start changing the unit of flux density for HCO+-3-2's cube.\n",
      "Start changing the unit of flux density for HCO+-4-3's cube.\n",
      "FIN\n"
     ]
    }
   ],
   "source": [
    "for mole, beam, band in mole_info:\n",
    "    print(f\"Start changing the unit of flux density for {mole}'s cube.\")\n",
    "    pathIN = f'{commonPath}_band{band}_{mole}_beam{beam}_cropped.fits'\n",
    "    fitsOUT = f'cube_band{band}_{mole}_beam{beam}_cropped_unit-K.fits' # 最後輸出的 cube\n",
    "    importfits(fitsimage=pathIN, imagename='casaIN.im', overwrite=True)\n",
    "\n",
    "    f0 = imhead(imagename='casaIN.im', mode=\"get\", hdkey=\"restfreq\")['value'] # Hz\n",
    "    \n",
    "    sr = 1.1331 * ((beam/3600)*(np.pi/180))**2\n",
    "    factor = ((c**2)/(2*k_B*sr*(f0**2))) * 1e-26 # 這個 1e-26 沒有仔細理解過\n",
    "\n",
    "    immath(imagename='casaIN.im', expr=f'{factor} * IM0', outfile='K.im')\n",
    "    imhead(imagename='K.im', mode='put', hdkey='bunit', hdvalue='K') # 標示改個\n",
    "\n",
    "    exportfits(imagename='K.im', fitsimage=fitsOUT, overwrite=True)\n",
    "\n",
    "    shutil.rmtree('casaIN.im')\n",
    "    shutil.rmtree('K.im') # 雖然 overwrite=True，還是移一下\n",
    "\n",
    "print('FIN')\n"
   ]
  }
 ],
 "metadata": {
  "kernelspec": {
   "display_name": "astro_py310",
   "language": "python",
   "name": "python3"
  },
  "language_info": {
   "codemirror_mode": {
    "name": "ipython",
    "version": 3
   },
   "file_extension": ".py",
   "mimetype": "text/x-python",
   "name": "python",
   "nbconvert_exporter": "python",
   "pygments_lexer": "ipython3",
   "version": "3.10.18"
  }
 },
 "nbformat": 4,
 "nbformat_minor": 5
}
