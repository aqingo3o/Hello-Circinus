{
 "cells": [
  {
   "cell_type": "markdown",
   "id": "00f8063d",
   "metadata": {},
   "source": [
    "### 標譜線\n",
    "湯底是紅魚的 fake_script_haha.ipynb  \n",
    "從他 github 上抓下來的  \n",
    "可能進行一些改動  \n",
    "主要是這個 cube 太他媽巨寬了，CARTA line query 找不太動  \n",
    "\n",
    "處理的 cube : \n",
    "從 ESO 上抓下來的，觀測儀器是 MUSE(single)  \n",
    "waveLenght range = [475, 935.2]nm  \n",
    "freq ~= [6.31e5, 3.21e5]GHz，用人話念就是 63萬GHz 到 32萬GHz，媽的也太寬！       \n",
    "pID = 094.B-0321"
   ]
  },
  {
   "cell_type": "code",
   "execution_count": null,
   "id": "6a2a617b",
   "metadata": {},
   "outputs": [],
   "source": [
    "# modular\n",
    "import pandas as pd\n",
    "import matplotlib.pyplot as plt\n",
    "from scipy.ndimage import gaussian_filter1d\n",
    "import numpy as np"
   ]
  },
  {
   "cell_type": "code",
   "execution_count": null,
   "id": "27539737",
   "metadata": {},
   "outputs": [],
   "source": [
    "# get data file\n",
    "#file_path = \"/Users/aqing/Documents/1004/Circinus_galaxy/H-alpha/Muse_475nm-935.2nm_circinus_cube.tsv\" # inp .tsv\n",
    "file_path = \"/Users/aqing/Documents/1004/Circinus_galaxy/H-alpha/Muse_475nm-935.2nm_circinus_cube_centerRegion.tsv\"\n",
    "\n",
    "# df = data file\n",
    "df = pd.read_csv(file_path, sep=\"\\t\", skiprows=5) # 打開 .tsv 看看，前五行需要跳過\n",
    "df.columns = [col.strip().lstrip(\"#\").strip() for col in df.columns]\n",
    "df[df.columns[0]] = pd.to_numeric(df[df.columns[0]], errors='coerce') # 「 df.coiumns[0] 」代表第0欄的藍標題，就和df['FREQ']這是一個意思\n",
    "df[df.columns[1]] = pd.to_numeric(df[df.columns[1]], errors='coerce') # pd.to_numeric(errors='coerce') 在遇到不是數字的直的時候，標記為 NaN\n",
    "df = df.dropna()\n",
    "\n",
    "freq = df[df.columns[0]] # 處理過後再讀入變數\n",
    "flux = df[df.columns[1]] "
   ]
  },
  {
   "cell_type": "code",
   "execution_count": null,
   "id": "b362185e",
   "metadata": {},
   "outputs": [],
   "source": [
    "# Line info\n",
    "z = 0.001448 # redshift\n",
    "c = 3e8 # light velocity [m/s]\n",
    "restFreq_a = c/656.3e-9 # [Hz]\n",
    "shiftedFreq_a = restFreq_a*(1+z) # [Hz]\n",
    "line_name = \"H-alpha\" # 被我改到剩單一線功能 :("
   ]
  },
  {
   "cell_type": "code",
   "execution_count": null,
   "id": "a4b26391",
   "metadata": {},
   "outputs": [],
   "source": [
    "# smoothing function\n",
    "def boxcar_smooth(y, kernel_size):\n",
    "    kernel = np.ones(kernel_size)/kernel_size\n",
    "    return np.convolve(y, kernel, mode=\"same\")\n",
    "\n",
    "def rebin_spectrum(x, y, bin_size):\n",
    "    x = np.array(x)\n",
    "    y = np.array(y)\n",
    "    n_bins = len(y) // bin_size\n",
    "    x = x[:n_bins * bin_size]\n",
    "    y = y[:n_bins * bin_size]\n",
    "    x_binned = x.reshape(n_bins, bin_size).mean(axis=1)\n",
    "    y_binned = y.reshape(n_bins, bin_size).mean(axis=1)\n",
    "    return x_binned, y_binned"
   ]
  },
  {
   "cell_type": "code",
   "execution_count": null,
   "id": "47f3420d",
   "metadata": {},
   "outputs": [],
   "source": [
    "'''\n",
    "#if you need to binning + boxcar smoothing\n",
    "\n",
    "x_binned, y_binned = rebin_spectrum(x, y, bin_size=    )\n",
    "y_binned_boxcar = boxcar_smooth(y_binned, kernel_size=    )\n",
    "\n",
    "plt.figure(figsize=(8, 4))\n",
    "plt.plot(x_binned, y_binned_boxcar, color=\"black\", linewidth=1, label=\"binning(b=    )+Boxcar (k=    )\")\n",
    "for freq, label in my_lines:\n",
    "    plt.axvline(freq, color=\"red\", linestyle=\"-\", alpha=0.6)\n",
    "    plt.text(freq, max(y_binned_boxcar)*-0.6, label, rotation=90, color=\"red\", fontsize=10, ha='right', va='bottom')\n",
    "#for freq, label in template_lines:\n",
    "#    plt.axvline(freq, color=\"blue\", linestyle=\"-\", alpha=0.6)\n",
    "#    plt.text(freq, max(df[df.columns[1]])*-0.6, label, rotation=90, color=\"blue\", fontsize=10, ha='right', va='bottomp')  \n",
    "plt.xlabel(\"frequency (GHz)\")\n",
    "plt.ylabel(\"Flux Density (mJy/beam)\")\n",
    "plt.title(\"    \")\n",
    "#plt.xlim(    ,     )\n",
    "#plt.ylim(    ,     )\n",
    "plt.axhline(0, color=\"black\", linewidth=1, linestyle=\"--\")\n",
    "plt.grid(True, alpha=0.2)\n",
    "plt.legend()\n",
    "plt.show()\n",
    "'''"
   ]
  },
  {
   "cell_type": "code",
   "execution_count": null,
   "id": "73efed46",
   "metadata": {},
   "outputs": [],
   "source": [
    "'''\n",
    "#if you just need boxcar smoothing\n",
    "\n",
    "y_boxcar = boxcar_smooth(y, kernel_size= )\n",
    "\n",
    "plt.figure(figsize=(8, 4))\n",
    "plt.plot(x, y_boxcar, color=\"black\", linewidth=1, label=\"Boxcar (k=    )\")\n",
    "for freq, label in my_lines:\n",
    "    plt.axvline(freq, color=\"red\", linestyle=\"-\", alpha=0.6)\n",
    "    plt.text(freq, max(y_boxcar)*-0.6, label, rotation=90, color=\"red\", fontsize=10, ha='right', va='bottom')\n",
    "#for freq, label in template_lines:\n",
    "#    plt.axvline(freq, color=\"blue\", linestyle=\"-\", alpha=0.6)\n",
    "#    plt.text(freq, max(df[df.columns[1]])*-0.6, label, rotation=90, color=\"blue\", fontsize=10, ha='right', va='bottom')  \n",
    "plt.xlabel(\"frequency (GHz)\")\n",
    "plt.ylabel(\"Flux Density (mJy/beam)\")\n",
    "plt.title(\"    \")\n",
    "#plt.xlim(    ,     )\n",
    "#plt.ylim(    ,     )\n",
    "plt.axhline(0, color=\"black\", linewidth=1, linestyle=\"--\")\n",
    "plt.grid(True, alpha=0.2)\n",
    "plt.legend()\n",
    "plt.show()\n",
    "'''"
   ]
  }
 ],
 "metadata": {
  "kernelspec": {
   "display_name": "astro_py310",
   "language": "python",
   "name": "python3"
  },
  "language_info": {
   "codemirror_mode": {
    "name": "ipython",
    "version": 3
   },
   "file_extension": ".py",
   "mimetype": "text/x-python",
   "name": "python",
   "nbconvert_exporter": "python",
   "pygments_lexer": "ipython3",
   "version": "3.10.18"
  }
 },
 "nbformat": 4,
 "nbformat_minor": 5
}
