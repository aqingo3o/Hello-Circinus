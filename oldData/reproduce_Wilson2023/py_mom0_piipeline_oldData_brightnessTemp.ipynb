{
 "cells": [
  {
   "cell_type": "markdown",
   "id": "728c525f",
   "metadata": {},
   "source": [
    "### （為復現數據）製作 mom0 的流水線_2\n",
    "\n",
    "湯底  && 目的 = 2_mom0/py_mom0_pipeline_oldData.ipynb  \n",
    "但加入了轉換 flux 單位的部分 (Jy/beam -> K)  \n",
    "媽的最好給我成功喔\n"
   ]
  },
  {
   "cell_type": "code",
   "execution_count": 23,
   "id": "b4f33aba",
   "metadata": {},
   "outputs": [],
   "source": [
    "from casatasks import importfits, immath, imhead, immoments, exportfits\n",
    "import shutil\n",
    "import os\n",
    "import numpy as np"
   ]
  },
  {
   "cell_type": "code",
   "execution_count": null,
   "id": "7bf67f43",
   "metadata": {},
   "outputs": [
    {
     "data": {
      "text/plain": [
       "'\\n其實 f_r 可以從 header 裡取，但這是因為這是處理優良的 cube。\\n像是 MVP 那種 ，一個 cube 裡面不只一條線的，就需要手動對 f_r 進行設定。\\n'"
      ]
     },
     "execution_count": 24,
     "metadata": {},
     "output_type": "execute_result"
    }
   ],
   "source": [
    "'''\n",
    "因為程式設計的問題所以很吃原生環境\n",
    "我是說檔案位置的問題...這邊都是用 4545 的 beam 的\n",
    "總之就是有這麼一回事\n",
    "'''\n",
    "commomPath = '/Users/aqing/Documents/1004/Circinus_galaxy/Ratio-Map/oldData/v2/4_brightnessTemp_ratio/smoothed-cube_copy/' # 從複製過的地方抓取 cube\n",
    "beamL = [('3030', 1.1331*(np.pi*8.33e-4/180)**2), ('4545', 1.1331*(np.pi*1.25e-3/180)**2)] # (fileName, solidAngle)\n",
    "mole = [('CO-1-0', 115.271), ('HCN-1-0', 88.63), ('CN-J12-12', 113.14), ('CN-J32-12', 113.49)] # (mole, restFrequency)\n",
    "\n",
    "# costants\n",
    "c = 3e8\n",
    "k_B = 1.3807e-23\n",
    "'''\n",
    "其實 f_r 可以從 header 裡取，但這是因為這是處理優良的 cube。\n",
    "像是 MVP 那種 ，一個 cube 裡面不只一條線的，就需要手動對 f_r 進行設定。\n",
    "'''"
   ]
  },
  {
   "cell_type": "code",
   "execution_count": null,
   "id": "f9567ce0",
   "metadata": {},
   "outputs": [
    {
     "name": "stdout",
     "output_type": "stream",
     "text": [
      "Start making moment maps of CO-1-0\n",
      "Moment maps of CO-1-0 are all done !\n",
      "\n",
      "Start making moment maps of HCN-1-0\n",
      "Moment maps of HCN-1-0 are all done !\n",
      "\n",
      "Start making moment maps of CN-J12-12\n",
      "Moment maps of CN-J12-12 are all done !\n",
      "\n",
      "Start making moment maps of CN-J32-12\n",
      "Moment maps of CN-J32-12 are all done !\n",
      "\n",
      "FIN\n"
     ]
    }
   ],
   "source": [
    "# 大巢\n",
    "\n",
    "for f, freq in mole :\n",
    "    print(f'Start making moment maps of {f}')\n",
    "\n",
    "    for b, sr in beamL :\n",
    "        pathIN = f'{commomPath}{f}_oldDataCube_smoothed-{b}.fits'\n",
    "        importfits(fitsimage=pathIN, imagename='casaIN.im', overwrite=True)\n",
    "        #print(f\"Successfully import {f}'s cube (beam{b}) as a CASA file.\")\n",
    "\n",
    "        #print(f'Transforming flux unit of {f}')\n",
    "        os.system(\"cp -r casaIN.im cp.im\")\n",
    "        scale = (c**2)/(2*k_B*sr*(freq**2))\n",
    "        immath(imagename='cp.im', expr=f'{scale} * IM0', outfile='K.im')\n",
    "        imhead(imagename='K.im', mode='put', hdkey='bunit', hdvalue='K') # 標示改個\n",
    "        \n",
    "        immoments(imagename='K.im', outfile='casaOUT.im', moments=[0], axis='spec')\n",
    "\n",
    "        fitsOUT = f'{f}_oldData_mom0_smoothed-{b}_unit-K.fits'\n",
    "        #print(f'Giving {fitsOUT}')\n",
    "        exportfits(imagename='casaOUT.im', fitsimage=fitsOUT, overwrite=True)\n",
    "\n",
    "        shutil.rmtree('casaOUT.im') # 雖然 overwrite=True，還是移一下\n",
    "        shutil.rmtree('casaIN.im')\n",
    "        shutil.rmtree('K.im')\n",
    "        shutil.rmtree('cp.im')\n",
    "\n",
    "    print(f'Moment maps of {f} are all done !')\n",
    "    print()\n",
    "\n",
    "print('FIN')"
   ]
  },
  {
   "cell_type": "code",
   "execution_count": null,
   "id": "0d3b37ef",
   "metadata": {},
   "outputs": [],
   "source": []
  }
 ],
 "metadata": {
  "kernelspec": {
   "display_name": "astro_py310",
   "language": "python",
   "name": "python3"
  },
  "language_info": {
   "codemirror_mode": {
    "name": "ipython",
    "version": 3
   },
   "file_extension": ".py",
   "mimetype": "text/x-python",
   "name": "python",
   "nbconvert_exporter": "python",
   "pygments_lexer": "ipython3",
   "version": "3.10.18"
  }
 },
 "nbformat": 4,
 "nbformat_minor": 5
}
