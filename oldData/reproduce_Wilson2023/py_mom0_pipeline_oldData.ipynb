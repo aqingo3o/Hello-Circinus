{
 "cells": [
  {
   "cell_type": "markdown",
   "id": "4d9244b6",
   "metadata": {},
   "source": [
    "### （為復現數據）製作 mom0 的流水線\n",
    "為了統一變因所以用 CASA 做，但因為 product 都已經處理完善了，所以沒有再減 RMS  \n",
    "也是因為處理完善，不用再特別選 chans，直接用整張圖做了\n",
    " \n",
    "把兩種 Beam (3030, 4545) 寫在一起了，就愛大巢"
   ]
  },
  {
   "cell_type": "code",
   "execution_count": 4,
   "id": "3ec96de0",
   "metadata": {},
   "outputs": [],
   "source": [
    "from casatasks import importfits, immoments, exportfits\n",
    "import shutil"
   ]
  },
  {
   "cell_type": "code",
   "execution_count": 5,
   "id": "9777c8f6",
   "metadata": {},
   "outputs": [],
   "source": [
    "'''\n",
    "因為程式設計的問題所以很吃原生環境\n",
    "我是說檔案位置的問題...這邊都是用 4545 的 beam 的\n",
    "總之就是有這麼一回事\n",
    "'''\n",
    "commomPath = '/Users/aqing/Documents/1004/Circinus_galaxy/Ratio-Map/oldData/v2/1_smoothed-cube/'\n",
    "parti_fileName = ['CO-1-0', 'HCN-1-0', 'CN-J12-12', 'CN-J32-12'] # cube 的\n",
    "beamL = ['3030', '4545']\n",
    "#chansL = []\n",
    "#rmsL = []\n",
    "#NsigmaL = [0, 0.2, 0.4, 0.6, 0.8, 1.0, 1.2, 1.4, 1.6, 1.8, 2.0, 2.2, 2.4, 2.6]"
   ]
  },
  {
   "cell_type": "code",
   "execution_count": 6,
   "id": "f66e941e",
   "metadata": {},
   "outputs": [
    {
     "name": "stdout",
     "output_type": "stream",
     "text": [
      "Start making moment maps of CO-1-0\n",
      ">> beam3030 <<\n",
      "Giving CO-1-0_oldData_mom0_smoothed-3030.fits\n",
      ">> beam4545 <<\n",
      "Giving CO-1-0_oldData_mom0_smoothed-4545.fits\n",
      "Moment maps of CO-1-0 are all done !\n",
      "\n",
      "Start making moment maps of HCN-1-0\n",
      ">> beam3030 <<\n",
      "Giving HCN-1-0_oldData_mom0_smoothed-3030.fits\n",
      ">> beam4545 <<\n",
      "Giving HCN-1-0_oldData_mom0_smoothed-4545.fits\n",
      "Moment maps of HCN-1-0 are all done !\n",
      "\n",
      "Start making moment maps of CN-J12-12\n",
      ">> beam3030 <<\n",
      "Giving CN-J12-12_oldData_mom0_smoothed-3030.fits\n",
      ">> beam4545 <<\n",
      "Giving CN-J12-12_oldData_mom0_smoothed-4545.fits\n",
      "Moment maps of CN-J12-12 are all done !\n",
      "\n",
      "Start making moment maps of CN-J32-12\n",
      ">> beam3030 <<\n",
      "Giving CN-J32-12_oldData_mom0_smoothed-3030.fits\n",
      ">> beam4545 <<\n",
      "Giving CN-J32-12_oldData_mom0_smoothed-4545.fits\n",
      "Moment maps of CN-J32-12 are all done !\n",
      "\n",
      "FIN\n"
     ]
    }
   ],
   "source": [
    "for f in parti_fileName :\n",
    "    print(f'Start making moment maps of {f}')\n",
    "\n",
    "    for b in beamL :\n",
    "        pathIN = f'{commomPath}{f}_oldDataCube_smoothed-{b}.fits'\n",
    "        importfits(fitsimage=pathIN, imagename='casaIN.im', overwrite=True)\n",
    "        print(f'>> beam{b} <<')\n",
    "\n",
    "        immoments(imagename='casaIN.im', outfile='casaOUT.im', moments=[0], axis='spec')\n",
    "        fitsOUT = f'{f}_oldData_mom0_smoothed-{b}.fits'\n",
    "        print(f'Giving {fitsOUT}')\n",
    "        exportfits(imagename='casaOUT.im', fitsimage=fitsOUT, overwrite=True)\n",
    "        shutil.rmtree('casaOUT.im') # 雖然 overwrite=True，還是移一下\n",
    "        shutil.rmtree('casaIN.im')\n",
    "\n",
    "    print(f'Moment maps of {f} are all done !')\n",
    "    print()\n",
    "\n",
    "print('FIN')"
   ]
  }
 ],
 "metadata": {
  "kernelspec": {
   "display_name": "astro_py310",
   "language": "python",
   "name": "python3"
  },
  "language_info": {
   "codemirror_mode": {
    "name": "ipython",
    "version": 3
   },
   "file_extension": ".py",
   "mimetype": "text/x-python",
   "name": "python",
   "nbconvert_exporter": "python",
   "pygments_lexer": "ipython3",
   "version": "3.10.18"
  }
 },
 "nbformat": 4,
 "nbformat_minor": 5
}
