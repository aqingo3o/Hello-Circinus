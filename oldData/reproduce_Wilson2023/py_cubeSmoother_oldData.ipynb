{
 "cells": [
  {
   "cell_type": "markdown",
   "id": "f0977d8f",
   "metadata": {},
   "source": [
    "### cubeSmoother()\n",
    "輸入目標 cube 路徑、目標波束以及輸出檔案名稱  \n",
    "來自 instant_smooth\n",
    "\n",
    "註：雖然說是即食，但因為是處理 cube，所以要好一會兒(<7min)  \n",
    "註：這個是拿來 smooth Wilson(2023) 那篇論文的數據，復現用"
   ]
  },
  {
   "cell_type": "code",
   "execution_count": null,
   "id": "934e67ca",
   "metadata": {},
   "outputs": [
    {
     "name": "stdout",
     "output_type": "stream",
     "text": [
      "measures_update ... acquiring the lock ... \n",
      "  ... finding available measures at www.astron.nl ...\n",
      "  ... downloading WSRT_Measures_20250726-160001.ztar from ASTRON server to /Users/aqing/.casa/data ...\n",
      "  ... measures data updated at /Users/aqing/.casa/data\n"
     ]
    }
   ],
   "source": [
    "# core\n",
    "from casatasks import importfits, imsmooth, exportfits\n",
    "import shutil\n",
    "commonPath = '/Users/aqing/Documents/1004/Circinus_galaxy/Ratio-Map/oldData/v2/0_data_almaArchive/'\n",
    "\n",
    "'''\n",
    "方便的用 imsmooth() 處理 FITS 的函式\n",
    "建議以變數傳入 pathIN, tarBeam, fitsOUT\n",
    "'''\n",
    "\n",
    "def Do_smooth(pathIN, kernel, tarBeam, fitsOUT) :\n",
    "    importfits(fitsimage=pathIN, imagename='casaIN.image', overwrite=True) \n",
    "    print('tataima!')\n",
    "    imsmooth(imagename='casaIN.image', outfile='casaOUT.image', kernel=kernel, beam=tarBeam, targetres=True, overwrite=True)\n",
    "    exportfits(imagename='casaOUT.image', fitsimage=fitsOUT, overwrite=True)\n",
    "    shutil.rmtree('casaIN.image')\n",
    "    shutil.rmtree('casaOUT.image')\n",
    "    print('Metafiles cleaned')"
   ]
  },
  {
   "cell_type": "code",
   "execution_count": 2,
   "id": "344ceb81",
   "metadata": {},
   "outputs": [
    {
     "name": "stdout",
     "output_type": "stream",
     "text": [
      "tataima!\n",
      "Metafiles cleaned\n"
     ]
    }
   ],
   "source": [
    "# CO(1-0)_Beam3030\n",
    "path = f'{commonPath}2013.1.00247/member.uid___A001_X121_X4f4.Circinius.12m.12CO1-0.image.pbcor.fits'\n",
    "out = 'CO-1-0_oldDataCube_smoothed-3030.fits'\n",
    "tarBeam = {'major': '3arcsec', 'minor': '3arcsec', 'pa': '0deg'}\n",
    "Do_smooth(path, 'g', tarBeam, out)"
   ]
  },
  {
   "cell_type": "code",
   "execution_count": 3,
   "id": "25f04aa7",
   "metadata": {},
   "outputs": [
    {
     "name": "stdout",
     "output_type": "stream",
     "text": [
      "tataima!\n",
      "Metafiles cleaned\n"
     ]
    }
   ],
   "source": [
    "# CO(1-0)_Beam4545\n",
    "path = f'{commonPath}2013.1.00247/member.uid___A001_X121_X4f4.Circinius.12m.12CO1-0.image.pbcor.fits'\n",
    "out = 'CO-1-0_oldDataCube_smoothed-4545.fits'\n",
    "tarBeam = {'major': '4.5arcsec', 'minor': '4.5arcsec', 'pa': '0deg'}\n",
    "Do_smooth(path, 'g', tarBeam, out)"
   ]
  },
  {
   "cell_type": "code",
   "execution_count": 4,
   "id": "70607326",
   "metadata": {},
   "outputs": [
    {
     "name": "stdout",
     "output_type": "stream",
     "text": [
      "tataima!\n"
     ]
    },
    {
     "name": "stderr",
     "output_type": "stream",
     "text": [
      "2025-07-26 16:18:50\tWARN\timsmooth::Image2DConvolver::_dealWithRestoringBeam\tFitted restoring beam is major: 3 arcsec, minor: 2.99993 arcsec, pa: -65.5328 deg, but putting requested target resolution beam major: 3 arcsec, minor: 3 arcsec, pa: 0 deg in the image metadata. Both beams may be considered consistent with the convolution result.\n"
     ]
    },
    {
     "name": "stdout",
     "output_type": "stream",
     "text": [
      "Metafiles cleaned\n"
     ]
    }
   ],
   "source": [
    "# HCN(1-0)_Beam3030\n",
    "path = f'{commonPath}2015.1.01286/member.uid___A001_X2f7_X201.ari_l.circinus_sci.spw1_88458MHz.12m.cube.I.pbcor.fits'\n",
    "out = 'HCN-1-0_oldDataCube_smoothed-3030.fits'\n",
    "tarBeam = {'major': '3arcsec', 'minor': '3arcsec', 'pa': '0deg'}\n",
    "Do_smooth(path, 'g', tarBeam, out)"
   ]
  },
  {
   "cell_type": "code",
   "execution_count": 5,
   "id": "5ee57ee8",
   "metadata": {},
   "outputs": [
    {
     "name": "stdout",
     "output_type": "stream",
     "text": [
      "tataima!\n",
      "Metafiles cleaned\n"
     ]
    }
   ],
   "source": [
    "# HCN(1-0)_Beam4545\n",
    "path = f'{commonPath}2015.1.01286/member.uid___A001_X2f7_X201.ari_l.circinus_sci.spw1_88458MHz.12m.cube.I.pbcor.fits'\n",
    "out = 'HCN-1-0_oldDataCube_smoothed-4545.fits'\n",
    "tarBeam = {'major': '4.5arcsec', 'minor': '4.5arcsec', 'pa': '0deg'}\n",
    "Do_smooth(path, 'g', tarBeam, out)"
   ]
  },
  {
   "cell_type": "code",
   "execution_count": 6,
   "id": "0b0d0a69",
   "metadata": {},
   "outputs": [
    {
     "name": "stdout",
     "output_type": "stream",
     "text": [
      "tataima!\n",
      "Metafiles cleaned\n"
     ]
    }
   ],
   "source": [
    "# CN(J12-12)_Beam3030\n",
    "path = f'{commonPath}2013.1.00247/member.uid___A001_X121_X4f4.Circinius.12m.CN113.1.image.pbcor.fits'\n",
    "out = 'CNJ12-12_oldDataCube_smoothed-3030.fits'\n",
    "tarBeam = {'major': '3arcsec', 'minor': '3arcsec', 'pa': '0deg'}\n",
    "Do_smooth(path, 'g', tarBeam, out)"
   ]
  },
  {
   "cell_type": "code",
   "execution_count": 7,
   "id": "7d7444c0",
   "metadata": {},
   "outputs": [
    {
     "name": "stdout",
     "output_type": "stream",
     "text": [
      "tataima!\n",
      "Metafiles cleaned\n"
     ]
    }
   ],
   "source": [
    "# CN(J12-12)_Beam4545\n",
    "path = f'{commonPath}2013.1.00247/member.uid___A001_X121_X4f4.Circinius.12m.CN113.1.image.pbcor.fits'\n",
    "out = 'CNJ12-12_oldDataCube_smoothed-4545.fits'\n",
    "tarBeam = {'major': '4.5arcsec', 'minor': '4.5arcsec', 'pa': '0deg'}\n",
    "Do_smooth(path, 'g', tarBeam, out)"
   ]
  },
  {
   "cell_type": "code",
   "execution_count": 8,
   "id": "b1191608",
   "metadata": {},
   "outputs": [
    {
     "name": "stdout",
     "output_type": "stream",
     "text": [
      "tataima!\n",
      "Metafiles cleaned\n"
     ]
    }
   ],
   "source": [
    "# CN(J32-12)_Beam3030\n",
    "path = f'{commonPath}2013.1.00247/member.uid___A001_X121_X4f4.Circinius.12m.CN113.5.image.pbcor.fits'\n",
    "out = 'CNJ32-12_oldDataCube_smoothed-3030.fits'\n",
    "tarBeam = {'major': '3arcsec', 'minor': '3arcsec', 'pa': '0deg'}\n",
    "Do_smooth(path, 'g', tarBeam, out)"
   ]
  },
  {
   "cell_type": "code",
   "execution_count": 9,
   "id": "18847277",
   "metadata": {},
   "outputs": [
    {
     "name": "stdout",
     "output_type": "stream",
     "text": [
      "tataima!\n",
      "Metafiles cleaned\n"
     ]
    }
   ],
   "source": [
    "# CN(J32-12)_Beam4545\n",
    "path = f'{commonPath}2013.1.00247/member.uid___A001_X121_X4f4.Circinius.12m.CN113.5.image.pbcor.fits'\n",
    "out = 'CNJ32-12_oldDataCube_smoothed-4545.fits'\n",
    "tarBeam = {'major': '4.5arcsec', 'minor': '4.5arcsec', 'pa': '0deg'}\n",
    "Do_smooth(path, 'g', tarBeam, out)"
   ]
  }
 ],
 "metadata": {
  "kernelspec": {
   "display_name": "astro_py310",
   "language": "python",
   "name": "python3"
  },
  "language_info": {
   "codemirror_mode": {
    "name": "ipython",
    "version": 3
   },
   "file_extension": ".py",
   "mimetype": "text/x-python",
   "name": "python",
   "nbconvert_exporter": "python",
   "pygments_lexer": "ipython3",
   "version": "3.10.18"
  }
 },
 "nbformat": 4,
 "nbformat_minor": 5
}
