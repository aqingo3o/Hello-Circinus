{
 "cells": [
  {
   "cell_type": "markdown",
   "id": "00f8063d",
   "metadata": {},
   "source": [
    "# Sampling BPT\n",
    "\n",
    "這邊同時做了 contsub 和 計算一些點的 BPT ratio  \n",
    "Linear fitting continnum spectrum 的時候是用的 py_contsub_linefree.ipynb 作為湯底  \n",
    "但 pixel 是從 CARTA 採樣來的，方法參考如下  \n",
    "取樣在 50 個點之內都可以接受...  \n",
    "自動化程度有待提高，但就先這樣ㄅ  \n",
    "\n",
    "- method ref :  \n",
    "老豆，說取幾個代表性的點做 BPT ratio 就好  \n",
    "真的假的？  \n",
    "\n",
    "- IFU from :  \n",
    "ESO Arcnive   \n",
    "Instrument          : VLT MUSE(single)  \n",
    "Object              : Circinus  \n",
    "Range(air $\\lambda$): 4759-9320 Å（補藥換成頻率啊）      \n",
    "pID                 : 094.B-0321"
   ]
  },
  {
   "cell_type": "code",
   "execution_count": 444,
   "id": "6a2a617b",
   "metadata": {},
   "outputs": [],
   "source": [
    "# modular\n",
    "import numpy as np\n",
    "import pandas as pd\n",
    "import matplotlib.pyplot as plt\n",
    "from scipy.optimize import curve_fit\n",
    "from scipy.signal import find_peaks\n",
    "from astropy.io import fits"
   ]
  },
  {
   "cell_type": "markdown",
   "id": "53275d51",
   "metadata": {},
   "source": [
    "## Set up"
   ]
  },
  {
   "cell_type": "markdown",
   "id": "318c35f3",
   "metadata": {},
   "source": [
    "### Import data\n",
    "讀進來的東西是確切的三維"
   ]
  },
  {
   "cell_type": "code",
   "execution_count": 445,
   "id": "23b3d3df",
   "metadata": {},
   "outputs": [],
   "source": [
    "c = 299792.458  # [km/s]\n",
    "z = 0.001448 # circinus galaxy\n",
    "commonPath = '/Users/aqing/Documents/1004/Circinus_galaxy/ionized-gas/VLT/'\n",
    "file_path = f\"{commonPath}MUSE_PID-094.B-0321_cube_4750-9352a_circinus.fits\" # FITS\n",
    "\n",
    "# metadata\n",
    "muse_hdul = fits.open(file_path)\n",
    "#muse_hdul.info() # DATA:cube, STAT:noise?\n",
    "muse_data = muse_hdul['DATA'].data # (RA, DEC, AWAV), 3D desu\n",
    "muse_header = muse_hdul['DATA'].header"
   ]
  },
  {
   "cell_type": "markdown",
   "id": "ccb6e7d2",
   "metadata": {},
   "source": [
    "### 又來到了親愛的波長軸的環節了\n",
    "稍微切了一下，因為旁邊用不太到"
   ]
  },
  {
   "cell_type": "code",
   "execution_count": 446,
   "id": "c3c4c420",
   "metadata": {},
   "outputs": [],
   "source": [
    "# entire AWV axis\n",
    "crval3 = muse_header['CRVAL3']\n",
    "cdelt3 = muse_header['CD3_3']\n",
    "crpix3 = muse_header['CRPIX3']\n",
    "naxis3 = muse_header['NAXIS3']\n",
    "ori_lamb = crval3 + (np.arange(naxis3) + 1 - crpix3) * cdelt3 # [AA] in air\n",
    "\n",
    "# analysis range\n",
    "wmin, wmax = 4751, 6900 # [AA]\n",
    "WLrange = (ori_lamb >= wmin) & (ori_lamb <= wmax) # '&' is a numpy operator!\n",
    "\n",
    "# 切一下\n",
    "lamb = ori_lamb[WLrange]\n",
    "muse_partiData = muse_data[WLrange, :, :]"
   ]
  },
  {
   "cell_type": "markdown",
   "id": "af6be0dd",
   "metadata": {},
   "source": [
    "### Line free channel (wave lengh)\n",
    "where_is_linefree 是人類去圈的，可能在中心區比較正確...  \n",
    "(旁邊的 absorbtion 是不是有點太多了)"
   ]
  },
  {
   "cell_type": "code",
   "execution_count": 447,
   "id": "32744ada",
   "metadata": {},
   "outputs": [],
   "source": [
    "# line free channs\n",
    "where_is_linefree = [(4770.796, 4834.046), # [AA] in air\n",
    "                     (5326.546, 5494.046),\n",
    "                     (5612.796, 5757.796),\n",
    "                     (5996.546, 6137.796),\n",
    "                     (6400.296, 6475.296),\n",
    "                     (6646.546, 6686.546),\n",
    "                     (6757.796, 6807.796),\n",
    "                     (7117.796, 7205.296)]\n",
    "\n",
    "# 之前做過的對獎邏輯！但是忘記是在哪做的了啊啊\n",
    "lineFree_channs = []\n",
    "for i in range(int(lamb.shape[0])): # 做一個都是 0 的對獎紙\n",
    "    lineFree_channs.append(0) \n",
    "\n",
    "fitting_lamb = []\n",
    "for i in range(len(lamb)): # 在指定的 line free 區的話，就標記 1\n",
    "    wav = float(lamb[i])\n",
    "    for m, M in where_is_linefree:\n",
    "        if wav>m and wav<M:\n",
    "            lineFree_channs[i] = 1 # 畫記，因為 flux 那邊還要用\n",
    "            fitting_lamb.append(lamb[i]) # 會拿去做 fiiting 的波長點，擔任 scipy 中 x 的角色\n",
    "fitting_lamb = np.array(fitting_lamb)"
   ]
  },
  {
   "cell_type": "markdown",
   "id": "a03a825e",
   "metadata": {},
   "source": [
    "### Emission lines profile\n",
    "到時候要標記發射線在哪兒就有東西可以標  \n",
    "直接寫成封包了嘿嘿，但與子圖不相容"
   ]
  },
  {
   "cell_type": "code",
   "execution_count": 448,
   "id": "9f2c365a",
   "metadata": {},
   "outputs": [],
   "source": [
    "emission_lines = [('H-beta*', (1+z)*4861),\n",
    "                  ('O[III]_4958', (1+z)*4958), \n",
    "                  ('O[III]_5007*', (1+z)*5007),\n",
    "                  ('H-alpha*', (1+z)*6562),\n",
    "                  ('N[II]_6548', (1+z)*6548),\n",
    "                  ('N[II]_6583*', (1+z)*6583),\n",
    "                  ('O[I]', (1+z)*6300),\n",
    "                  #('Ar[III]', (1+z)*7135),\n",
    "                  ('S[II]_6716', (1+z)*6716),\n",
    "                  ('S[II]_6730', (1+z)*6730)]\n",
    "\n",
    "# 輸入 ymax 以達到最佳顯示效果\n",
    "def Plot_emission(ymax):\n",
    "    for n, l in emission_lines :\n",
    "        plt.axvline(l, color='b', linestyle=\"-\", lw=0.7)\n",
    "        if  '*' in n :\n",
    "            plt.text(l, ymax*0.9, n, rotation=90, color='b', alpha=0.7, fontsize=10, ha='right', va='top')\n",
    "        else :\n",
    "            plt.axvline(l, color='k', linestyle=\"-\", lw=0.7, alpha=0.7)\n"
   ]
  },
  {
   "cell_type": "markdown",
   "id": "0d295063",
   "metadata": {},
   "source": [
    "### **Choosen pixels\n",
    "選一些像素，取樣的意思啦"
   ]
  },
  {
   "cell_type": "code",
   "execution_count": 449,
   "id": "d64062eb",
   "metadata": {},
   "outputs": [],
   "source": [
    "# 要 fit 哪個 pixel 的 continnum?\n",
    "pixel_sample = [('N1', 157, 151), ('N2', 151, 156), ('N3', 163, 141),\n",
    "                ('A1', 161, 130), ('A2', 54, 133), ('A3', 131, 173), ('A4', 152, 143), # arm\n",
    "                ('A5', 146, 165), ('A6', 166, 158), ('A7', 198, 90), ('A8', 129, 42),# arm\n",
    "                ('C1', 166, 234), ('C2', 211, 220), ('C3', 210, 180), # cone\n",
    "                #('S1', 60, 220), ('S2', 37, 153), ('S3', 242, 58), # side\n",
    "                ('OD', 192, 161), ('NF', 107, 104)\n",
    "                ] \n",
    "ouoooo = []"
   ]
  },
  {
   "cell_type": "markdown",
   "id": "19355f11",
   "metadata": {},
   "source": [
    "## Fitting\n",
    "先用的超簡單超乎天文的 fitting  \n",
    "不知道對不對但 fit 得挺好啊"
   ]
  },
  {
   "cell_type": "markdown",
   "id": "49ec1fb9",
   "metadata": {},
   "source": [
    "### fitting function\n",
    "對這個環境高度相依的函式  \n",
    "離開這裡之後的可用性是0  \n",
    "裡面的 fitModel, lamb 都是寫死的，這只是用來讓我的程式不要長成一坨用的  \n",
    "\n",
    "- 輸入：要進行連續譜線性擬合的 pixel 的光譜 (串列). \n",
    "- 回傳：fit 出來的連續譜(fitting_result, a list),  \n",
    "       原始的東西減掉連續譜之後的東西，簡稱發射譜線(emission_contsub, a list)"
   ]
  },
  {
   "cell_type": "code",
   "execution_count": 450,
   "id": "710454a5",
   "metadata": {},
   "outputs": [],
   "source": [
    "# aqing's fitting function\n",
    "def fitModel(x, a, b): # 先定個線性\n",
    "    return a * x + b\n",
    "\n",
    "def Continnum_fitting(fitting_pixel):\n",
    "    fitting_flux = [] # 存放 fit 材料\n",
    "    for i in range(len(lamb)):\n",
    "        if lineFree_channs[i] == 1: # 對獎紙的用途\n",
    "            fitting_flux.append(fitting_pixel[i])\n",
    "    fitting_flux = np.array(fitting_flux)\n",
    "\n",
    "    popt, _ = curve_fit(fitModel, fitting_lamb, fitting_flux, absolute_sigma=False) # least square\n",
    "    fitting_result = fitModel(fitting_lamb, *popt) # 進行一個大代入，愛實驗物理學\n",
    "    emission_contsub = fitting_pixel - (fitModel(lamb, *popt))\n",
    "    return fitting_result, emission_contsub"
   ]
  },
  {
   "cell_type": "markdown",
   "id": "ab978720",
   "metadata": {},
   "source": [
    "### do the fitting\n",
    "做擬合，順便取出擬合結果了！  \n",
    "\n",
    "To access to data product:  \n",
    "- lamb:(cropped) all wavelength\n",
    "- fitting_lamb:line-free wavelenght   \n",
    "- \n",
    "- fluxL: flux density before contsub --> shape=lamb\n",
    "- contiL[i]:continnum(by the fitting) --> shape=fitting_lamb\n",
    "- emiiL[i]:flux density after contsub(shape=lamb) --> shape=lamb"
   ]
  },
  {
   "cell_type": "code",
   "execution_count": 451,
   "id": "21c09cb6",
   "metadata": {},
   "outputs": [],
   "source": [
    "# DO fit\n",
    "contiL = []\n",
    "emiiL = []\n",
    "fluxL = [] # 每次的pixx要存起來畫圖\n",
    "\n",
    "for _, RAp, DECp in pixel_sample:\n",
    "    pixx = muse_partiData[:, RAp, DECp]\n",
    "    fluxL.append(pixx)\n",
    "    conti, emii = Continnum_fitting(pixx)\n",
    "    contiL.append(conti)\n",
    "    emiiL.append(emii)"
   ]
  },
  {
   "cell_type": "markdown",
   "id": "6df91f74",
   "metadata": {},
   "source": [
    "## Find flux density of BPT lines\n",
    "標記 contsub 後，在 BPT lines 附近的峰值  \n",
    "用之前阿酷寫過的東西  \n",
    "\n",
    "- 結果：  \n",
    "放在 BPT_intensity "
   ]
  },
  {
   "cell_type": "code",
   "execution_count": 452,
   "id": "8382c791",
   "metadata": {},
   "outputs": [
    {
     "name": "stdout",
     "output_type": "stream",
     "text": [
      "{'N1': {'H-beta*': np.float64(954.6526483524422), 'O[III]_5007*': np.float64(6165.780295110787), 'H-alpha*': np.float64(18944.072579512154), 'N[II]_6583*': np.float64(17212.921396575864)}, 'N2': {'H-beta*': np.float64(611.7110423366244), 'O[III]_5007*': np.float64(7134.5015213076695), 'H-alpha*': np.float64(13727.484125080387), 'N[II]_6583*': np.float64(14304.629243807893)}, 'N3': {'H-beta*': np.float64(403.4122132967509), 'O[III]_5007*': np.float64(559.4509036758286), 'H-alpha*': np.float64(8103.210083701191), 'N[II]_6583*': np.float64(5628.773198410718)}, 'A1': {'H-beta*': np.float64(107.6887938995385), 'O[III]_5007*': np.float64(87.30284830047594), 'H-alpha*': np.float64(1700.957763332224), 'N[II]_6583*': np.float64(1035.047398464156)}, 'A2': {'H-beta*': np.float64(40.054009010005956), 'O[III]_5007*': np.float64(30.68640150752782), 'H-alpha*': np.float64(328.1823045091146), 'N[II]_6583*': np.float64(155.07937550503496)}, 'A3': {'H-beta*': np.float64(38.991396466216656), 'O[III]_5007*': np.float64(154.41861151237822), 'H-alpha*': np.float64(603.7356139931187), 'N[II]_6583*': np.float64(692.5028742412692)}, 'A4': {'H-beta*': np.float64(203.22487558414718), 'O[III]_5007*': np.float64(581.2777751640124), 'H-alpha*': np.float64(3763.161842799641), 'N[II]_6583*': np.float64(2906.715294755385)}, 'A5': {'H-beta*': np.float64(65.17721558824269), 'O[III]_5007*': np.float64(1655.4437624848747), 'H-alpha*': np.float64(2366.531172263315), 'N[II]_6583*': np.float64(4144.545470155932)}, 'A6': {'H-beta*': np.float64(680.0080922315906), 'O[III]_5007*': np.float64(7366.1729569519375), 'H-alpha*': np.float64(8865.009370127298), 'N[II]_6583*': np.float64(11143.887359954027)}, 'A7': {'H-beta*': np.float64(44.33547252343402), 'O[III]_5007*': np.float64(54.81709394529753), 'H-alpha*': np.float64(477.89543715531113), 'N[II]_6583*': np.float64(388.7812738567359)}, 'A8': {'H-beta*': np.float64(12.569976290049496), 'O[III]_5007*': np.float64(28.916815050988973), 'H-alpha*': np.float64(26.50420799802359), 'N[II]_6583*': np.float64(52.88000635067691)}, 'C1': {'H-beta*': np.float64(16.31684377665775), 'O[III]_5007*': np.float64(194.57745896191236), 'H-alpha*': np.float64(322.74991418338004), 'N[II]_6583*': np.float64(317.97573854015286)}, 'C2': {'H-beta*': np.float64(189.65817044727703), 'O[III]_5007*': np.float64(1726.3051220104994), 'H-alpha*': np.float64(826.7735660791135), 'N[II]_6583*': np.float64(403.81787010357414)}, 'C3': {'H-beta*': np.float64(360.8259848447088), 'O[III]_5007*': np.float64(2774.85423510686), 'H-alpha*': np.float64(4764.024958176739), 'N[II]_6583*': np.float64(2904.821509192158)}, 'OD': {'H-beta*': np.float64(128.67823407146375), 'O[III]_5007*': np.float64(1153.571159807557), 'H-alpha*': np.float64(1734.1905734183695), 'N[II]_6583*': np.float64(2395.1802189968275)}, 'NF': {'H-beta*': np.float64(62.31144222132002), 'O[III]_5007*': np.float64(64.21329559050514), 'H-alpha*': np.float64(1833.0071391195831), 'N[II]_6583*': np.float64(703.6416853569023)}}\n"
     ]
    }
   ],
   "source": [
    "BPT_intensity = {} # 雙層字典的大字典\n",
    "semi_lw = 6 # Å\n",
    "\n",
    "for p in range(len(contiL)): # 每個 pixel 都要看四條線，先處理第 p 個點\n",
    "\n",
    "    pixelName = pixel_sample[p][0] # 幫點取的 像 A3 的那種名字\n",
    "    if pixelName not in BPT_intensity:\n",
    "            BPT_intensity[pixelName] = {}  # 建立空小字典\n",
    "\n",
    "    for n, lc in emission_lines: # name, line_center\n",
    "        if '*' in n:\n",
    "            candi_flux = []\n",
    "            for i in range(len(lamb)):\n",
    "                if (lamb[i] >= lc-semi_lw) and (lamb[i] <= lc+semi_lw):\n",
    "                    candi_flux.append(emiiL[p][i])\n",
    "            localMax = np.max(candi_flux)\n",
    "            BPT_intensity[pixelName][n] = localMax # [(小字典)那個點] = {發射線名稱：localMax}\n",
    "            #BPT_intensity[pixelName] = {n:localMax} !!! 這樣等於複寫 !!!\n",
    "\n",
    "print(BPT_intensity)          "
   ]
  },
  {
   "cell_type": "markdown",
   "id": "ab78fe7f",
   "metadata": {},
   "source": [
    "## BPT ratio\n",
    "計算每個 pixels(17) 的 BPT ratio  \n",
    "並且按照分類上色    \n",
    "最後標回圖上\n",
    "\n",
    "Known issue:  \n",
    "- 不知道用哪張圖可以最好的代表 Circinus\n",
    "- 像素座標(MUSE IFU) 轉 WCS \n"
   ]
  },
  {
   "cell_type": "markdown",
   "id": "220bdfb4",
   "metadata": {},
   "source": [
    "### Caculation\n",
    "橫軸(h)：\n",
    "$\\frac{N[II](6583)}{H\\alpha}$  \n",
    "  \n",
    "\n",
    "縱軸(v)：\n",
    "$\\frac{O[III](5007)}{H\\beta}$  \n",
    "\n",
    "- 結果：  \n",
    "BPT_ratio = [] # (pixelName, hori_ratio, verti_ratio)"
   ]
  },
  {
   "cell_type": "code",
   "execution_count": 453,
   "id": "ef934a91",
   "metadata": {},
   "outputs": [],
   "source": [
    "BPT_ratio = [] # (pixelName, hori_ratio, verti_ratio)\n",
    "for pixelName in BPT_intensity: # pixelName\n",
    "    theInten = BPT_intensity[pixelName]\n",
    "    '''\n",
    "    print(pixelName,':')\n",
    "    print(f\"H-beta:{theInten['H-beta*']:.2f}, O[III]:{theInten['O[III]_5007*']:.2f}\")\n",
    "    print(f\"H-alpha:{theInten['H-alpha*']:.2f}, N[II]:{theInten['N[II]_6583*']:.2f}\")\n",
    "    print() # 簡單的檢查，感覺數值應該大致上是正確的...當然點可以再取好一點...\n",
    "    '''\n",
    "    tupp = (pixelName, # tupple, 暫時的\n",
    "            theInten['N[II]_6583*']/theInten['H-alpha*'],\n",
    "            theInten['O[III]_5007*']/theInten['H-beta*'])\n",
    "    BPT_ratio.append(tupp)"
   ]
  },
  {
   "cell_type": "markdown",
   "id": "e6a2d8c6",
   "metadata": {},
   "source": [
    "### SF, Sy, LINER or composite\n",
    "就是標線的線，寫成函式了  \n",
    "   \n",
    "A = $\\frac{N[II](6583)}{H\\alpha}$  , B = $\\frac{O[III](5007)}{H\\beta}$  \n",
    "\n",
    "- Eq ref:  \n",
    "The Close AGN Reference Survey (CARS): A comparison between sub-mm and optical AGN diagnostic diagrams\n",
    "\n"
   ]
  },
  {
   "cell_type": "code",
   "execution_count": 454,
   "id": "eb106330",
   "metadata": {},
   "outputs": [],
   "source": [
    "def SF_compo (logA): # 經驗恆星形成電離上限\n",
    "    logB = 1.3 + 0.61/(logA-0.05)\n",
    "    return logB\n",
    "\n",
    "def SF_AGN (logA): # 理論恆星形成的電離上限\n",
    "    logB = 1.19 + 0.61/(logA-0.47)\n",
    "    return logB\n",
    "\n",
    "def Sy_LINERs (logA): # 吸積效率？\n",
    "    logB = 1.05 * logA + 0.45\n",
    "    return logB"
   ]
  },
  {
   "cell_type": "markdown",
   "id": "0d1d12fc",
   "metadata": {},
   "source": [
    "## Results demo\n",
    "想要把檔案匯出  \n",
    "這樣可以新開一個 notebook 用來做之後的取值等等工作"
   ]
  },
  {
   "cell_type": "markdown",
   "id": "4a3c7597",
   "metadata": {},
   "source": [
    "### fitting & contsub"
   ]
  },
  {
   "cell_type": "code",
   "execution_count": 455,
   "id": "a6da1815",
   "metadata": {},
   "outputs": [
    {
     "data": {
      "text/plain": [
       "'\\nfor i in range(len(contiL)):\\n    plt.figure(figsize=(15, 5))\\n    plt.fill_between(lamb, -1, np.max(fluxL[i]), where=lineFree_channs, # 灰色格子是這樣做的\\n                    color=\\'gainsboro\\', label=\"line-free regions\")\\n    plt.plot(lamb, fluxL[i], c=\\'k\\', lw=1, label=\\'raw data\\')\\n    plt.plot(lamb, emiiL[i], c=(0, 0.7, 0.3), label=\\'emission (contsubed)\\')\\n    plt.plot(fitting_lamb, contiL[i], c=\\'orangered\\', label=\"fitted continuum(linear)\")\\n\\n    plt.axhline(0, c=\\'k\\', lw=0.7)\\n    plt.xlabel(\"Wavelength (Å)\")\\n    plt.ylabel(\"Flux density\")\\n    plt.title(f\\'Image contsub of space {pixel_sample[i][0]}({pixel_sample[i][1]}, {pixel_sample[i][2]}) of MUSE data\\')\\n    Plot_emission(np.max(fluxL[i]))\\n\\n    plt.legend(loc=\\'upper center\\')\\n    plt.show()\\n'"
      ]
     },
     "execution_count": 455,
     "metadata": {},
     "output_type": "execute_result"
    }
   ],
   "source": [
    "# 畫個\n",
    "'''\n",
    "for i in range(len(contiL)):\n",
    "    plt.figure(figsize=(15, 5))\n",
    "    plt.fill_between(lamb, -1, np.max(fluxL[i]), where=lineFree_channs, # 灰色格子是這樣做的\n",
    "                    color='gainsboro', label=\"line-free regions\")\n",
    "    plt.plot(lamb, fluxL[i], c='k', lw=1, label='raw data')\n",
    "    plt.plot(lamb, emiiL[i], c=(0, 0.7, 0.3), label='emission (contsubed)')\n",
    "    plt.plot(fitting_lamb, contiL[i], c='orangered', label=\"fitted continuum(linear)\")\n",
    "\n",
    "    plt.axhline(0, c='k', lw=0.7)\n",
    "    plt.xlabel(\"Wavelength (Å)\")\n",
    "    plt.ylabel(\"Flux density\")\n",
    "    plt.title(f'Image contsub of space {pixel_sample[i][0]}({pixel_sample[i][1]}, {pixel_sample[i][2]}) of MUSE data')\n",
    "    Plot_emission(np.max(fluxL[i]))\n",
    "\n",
    "    plt.legend(loc='upper center')\n",
    "    plt.show()\n",
    "'''\n"
   ]
  },
  {
   "cell_type": "markdown",
   "id": "3b17d17b",
   "metadata": {},
   "source": [
    "### plot BPT (for preview)\n",
    "因為並沒有篩掉去樣取的不好的點，所以幣值就那樣吧  \n",
    "希望我沒有寫錯任豪東西"
   ]
  },
  {
   "cell_type": "code",
   "execution_count": 456,
   "id": "3c409e39",
   "metadata": {},
   "outputs": [],
   "source": [
    "# 因為打很久所以存個\n",
    "# 超沒用之根據像素名字選取顏色機\n",
    "def Dot_color(pn):\n",
    "    if 'A' in pn:\n",
    "        c='orangered'\n",
    "    elif 'C' in pn:\n",
    "        c='gold'\n",
    "    elif 'S' in pn:\n",
    "        c='darkgray'\n",
    "    elif pn=='NF':\n",
    "        c='k' # 攔截\n",
    "    elif pn=='OD':\n",
    "        c='darkviolet'\n",
    "    elif 'N' in pn:\n",
    "        c='deeppink'\n",
    "    else:\n",
    "        c='g'\n",
    "    return c"
   ]
  },
  {
   "cell_type": "code",
   "execution_count": 457,
   "id": "2f9da078",
   "metadata": {},
   "outputs": [
    {
     "data": {
      "image/png": "[encoded data removed]",
      "text/plain": [
       "<Figure size 500x400 with 1 Axes>"
      ]
     },
     "metadata": {},
     "output_type": "display_data"
    }
   ],
   "source": [
    "# 純畫\n",
    "plt.figure(figsize=(5, 4))\n",
    "for pixelName, h, v in BPT_ratio:\n",
    "    c=Dot_color(pixelName)\n",
    "    plt.scatter(np.log10(h), np.log10(v), c=c, s=7)\n",
    "    plt.xlim(-1, 1)\n",
    "    plt.ylim(-1, 1.5)\n",
    "    plt.text(np.log10(h), np.log10(v), pixelName, color='k', alpha=0.7, fontsize=7, ha='right', va='top')\n",
    "    plt.xlabel('log(N[II]/H-alpha)')\n",
    "    plt.ylabel('log(O[III]/H-beta)')\n",
    "    plt.title('BPT')\n",
    "plt.show()"
   ]
  },
  {
   "cell_type": "code",
   "execution_count": 458,
   "id": "1176f9aa",
   "metadata": {},
   "outputs": [
    {
     "data": {
      "image/png": "[encoded data removed]",
      "text/plain": [
       "<Figure size 600x500 with 1 Axes>"
      ]
     },
     "metadata": {},
     "output_type": "display_data"
    }
   ],
   "source": [
    "# 加線\n",
    "\n",
    "logA_range = np.linspace(-1, 1, 25) \n",
    "\n",
    "plt.figure(figsize=(6, 5))\n",
    "# 標點\n",
    "for pixelName, h, v in BPT_ratio:\n",
    "    c=Dot_color(pixelName)\n",
    "    plt.scatter(np.log10(h), np.log10(v), c=c, s=7)\n",
    "    plt.text(np.log10(h), np.log10(v), pixelName, color='k', alpha=0.7, fontsize=7, ha='right', va='top')\n",
    "\n",
    "# 線\n",
    "plt.plot(np.linspace(-1, 0, 25), SF_compo(np.linspace(-1, 0, 25)), # start, stop, pointNum\n",
    "        lw=0.6, linestyle='--', c='b', alpha=0.7, label='SF/composite')\n",
    "plt.plot(np.linspace(-1, 0.25, 25), SF_AGN(np.linspace(-1, 0.25, 25)),\n",
    "        lw=0.6, linestyle='--', c='g', alpha=0.7, label='composiiii/(Sy, AGN)') \n",
    "plt.plot(np.linspace(-0.24, 1, 25), Sy_LINERs(np.linspace(-0.1, 1, 25)),\n",
    "        lw=0.6, linestyle='--', c='r', alpha=0.7, label='Syfert/LINERs')\n",
    "\n",
    "plt.xlim(-1, 1)\n",
    "plt.ylim(-1, 1.5)\n",
    "plt.xlabel('log(N[II]/H-alpha)')\n",
    "plt.ylabel('log(O[III]/H-beta)')\n",
    "plt.title('BPT')\n",
    "plt.legend(loc='lower right')\n",
    "plt.show()"
   ]
  },
  {
   "cell_type": "code",
   "execution_count": null,
   "id": "c97346c8",
   "metadata": {},
   "outputs": [],
   "source": []
  }
 ],
 "metadata": {
  "kernelspec": {
   "display_name": "astro_py310",
   "language": "python",
   "name": "python3"
  },
  "language_info": {
   "codemirror_mode": {
    "name": "ipython",
    "version": 3
   },
   "file_extension": ".py",
   "mimetype": "text/x-python",
   "name": "python",
   "nbconvert_exporter": "python",
   "pygments_lexer": "ipython3",
   "version": "3.10.18"
  }
 },
 "nbformat": 4,
 "nbformat_minor": 5
}
