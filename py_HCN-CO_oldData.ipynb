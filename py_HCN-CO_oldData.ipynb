{
 "cells": [
  {
   "cell_type": "markdown",
   "id": "c45f85eb",
   "metadata": {},
   "source": [
    "### 一個檢查算法沒有錯的東東\n",
    "做 HCN/CO 的 ratio map\n",
    "\n",
    "嘗試復現論文裡的操作：\n",
    "1.5 arcsec 的網格和 3*3 arcsec 的 beam\n",
    "\n",
    "先都做成對齊良好 moment map (file 1, 2)，再卷積，再將 HCN 變得和 CO 一樣 shape\n",
    "\n",
    "對齊的方式都是用函式，平行處理的概念。\n",
    "\n",
    "但是這個不是最好的版本，因為 HCN 投影第二次好像會有點跑掉...\n",
    "\n",
    "檔案如下：\n",
    "1. CO(1-0)_mom0_oldData_regrid1.5.fits\n",
    "2. HCN(1-0)_mom0_oldData_regrid1.5.fits\n",
    "3. CO(1-0)_mom0_oldData_regrid1.5_convol33.fits\n",
    "4. HCN(1-0)_mom0_oldData_regrid1.5_convol33.fits\n",
    "5. HCN-CO_ratio_oldData_regrid1.5_convol33.fits"
   ]
  },
  {
   "cell_type": "code",
   "execution_count": 1,
   "id": "1cff8914-6d00-4ae8-8982-7b108a7a14b1",
   "metadata": {
    "jupyter": {
     "source_hidden": true
    }
   },
   "outputs": [],
   "source": [
    "# import modular\n",
    "\n",
    "from astropy.io import fits\n",
    "import matplotlib.pyplot as plt\n",
    "\n",
    "from astropy.wcs import WCS\n",
    "from reproject import reproject_interp\n",
    "\n",
    "from radio_beam import Beam\n",
    "from astropy.convolution import convolve_fft\n",
    "from astropy import units as u\n",
    "\n",
    "import numpy as np"
   ]
  },
  {
   "cell_type": "code",
   "execution_count": 2,
   "id": "3340281a",
   "metadata": {},
   "outputs": [],
   "source": [
    "# hand made function\n",
    "\n",
    "# 存檔芝士\n",
    "def Save_as_FITS(the_file_name, ima_data, ref_header, ref_beam, beam_a_Beam):\n",
    "    the_file_name = the_file_name + '.fits'\n",
    "    the_header = ref_header.copy() # new header 是複製一個已知 header 的大部分...\n",
    "    if beam_a_Beam == True: # ref_beam 是實際意義上的 Beam 的話\n",
    "        the_header['BMAJ'] = ref_beam.major.to(u.deg).value\n",
    "        the_header['BMIN'] = ref_beam.minor.to(u.deg).value\n",
    "        the_header['BPA'] = ref_beam.pa.to(u.deg).value\n",
    "    else: # ref_beam 是一個 header 的話\n",
    "        the_header['BMAJ'] = ref_beam['BMAJ']\n",
    "        the_header['BMIN'] = ref_beam['BMIN']\n",
    "        the_header['BPA'] = ref_beam['BPA']\n",
    "    fits.writeto(the_file_name, ima_data, the_header, overwrite=True)\n",
    "    print(f'Successfully saved a new FITS file as {the_file_name}')\n",
    "\n",
    "\n",
    "# 新網格機！\n",
    "'''\n",
    "input a hdul&&像素步長 in arcsec\n",
    "return new_shape, new_wcs, 和定義的 header 本人 \n",
    "'''\n",
    "def reGrid(reGrid_obj, pixelStep_target): \n",
    "    reGrid_obj_header = reGrid_obj[0].header\n",
    "    ori_n1, ori_n2 = reGrid_obj[0].data.squeeze().shape # (y, x)\n",
    "    print('Get the input HDUL successfully!') ##\n",
    "    new_n2 = int(ori_n2*abs(reGrid_obj_header['CDELT1']) / (pixelStep_target/3600)) # 要純量相除！\n",
    "    new_n1 = int(ori_n1*abs(reGrid_obj_header['CDELT2']) / (pixelStep_target/3600))\n",
    "    new_header = fits.Header()\n",
    "    new_header['NAXIS'] = 2\n",
    "    new_header['NAXIS1'] = new_n2\n",
    "    new_header['NAXIS2'] = new_n1\n",
    "    new_header['CRPIX1'] = new_n2 * 0.5 + 1\n",
    "    new_header['CRPIX2'] = new_n1 * 0.5 + 1\n",
    "    new_header['CRVAL1'] = 213.2915 # 暴力抓蟲\n",
    "    new_header['CRVAL2'] = -65.339 # 暴力抓蟲\n",
    "    new_header['CDELT1'] = pixelStep_target / -3600\n",
    "    new_header['CDELT2'] = pixelStep_target / 3600\n",
    "    new_header['CTYPE1'] = 'RA---SIN'\n",
    "    new_header['CTYPE2'] = 'DEC--SIN'\n",
    "    new_header['CUNIT1'] = 'deg'\n",
    "    new_header['CUNIT2'] = 'deg'\n",
    "    ## 不確定但先寫著，沒 beam 很奇怪耶\n",
    "    new_header['BMAJ'] = reGrid_obj_header['BMAJ']\n",
    "    new_header['BMIN'] = reGrid_obj_header['BMIN']\n",
    "    new_header['BPA'] = reGrid_obj_header['BPA']\n",
    "    print('Giving reprojecting material...')\n",
    "    return (new_n2, new_n1), WCS(new_header), new_header"
   ]
  },
  {
   "cell_type": "code",
   "execution_count": 3,
   "id": "d2139d45-94eb-4c3d-8f45-76c98c442104",
   "metadata": {
    "jupyter": {
     "source_hidden": true
    }
   },
   "outputs": [
    {
     "name": "stdout",
     "output_type": "stream",
     "text": [
      "Original WCS is valid: False\n"
     ]
    },
    {
     "name": "stderr",
     "output_type": "stream",
     "text": [
      "WARNING: FITSFixedWarning: 'datfix' made the change 'Set MJD-OBS to 57018.548278 from DATE-OBS'. [astropy.wcs.wcs]\n",
      "WARNING: FITSFixedWarning: 'obsfix' made the change 'Set OBSGEO-L to   -67.754929 from OBSGEO-[XYZ].\n",
      "Set OBSGEO-B to   -23.022886 from OBSGEO-[XYZ].\n",
      "Set OBSGEO-H to     5053.796 from OBSGEO-[XYZ]'. [astropy.wcs.wcs]\n"
     ]
    }
   ],
   "source": [
    "# import data (moment0.fit of CO&&HCN)\n",
    "\n",
    "CO_hdul = fits.open(\"/Users/aqing/Documents/1004/Circinus_galaxy/Ratio-Map/oldData/CO(1-0)_mom0_oldData.fits\")\n",
    "HCN_hdul = fits.open(\"/Users/aqing/Documents/1004/Circinus_galaxy/Ratio-Map/oldData/HCN(1-0)_mom0_oldData.fits\")\n",
    "\n",
    "CO_header, HCN_header = CO_hdul[0].header, HCN_hdul[0].header\n",
    "CO_ima, HCN_ima = CO_hdul[0].data.squeeze(), HCN_hdul[0].data.squeeze()\n",
    "\n",
    "original_wcs = WCS(CO_header)\n",
    "print(\"Original WCS is valid:\", original_wcs.is_celestial)"
   ]
  },
  {
   "cell_type": "code",
   "execution_count": 4,
   "id": "6e3f9f22",
   "metadata": {
    "jupyter": {
     "source_hidden": true
    }
   },
   "outputs": [
    {
     "name": "stdout",
     "output_type": "stream",
     "text": [
      "Get the input HDUL successfully!\n",
      "Giving reprojecting material...\n",
      "Get the input HDUL successfully!\n",
      "Giving reprojecting material...\n"
     ]
    }
   ],
   "source": [
    "# reproject to 1.5 arc ㄉ 網格\n",
    "\n",
    "CO_wcs, HCN_wcs = WCS(CO_header, naxis=2), WCS(HCN_header, naxis=2)\n",
    "pixelStep = 1.5 # arcsec\n",
    "CO_new_shape, CO_new_wcs, CO_new_header = reGrid(CO_hdul, pixelStep)\n",
    "CO_ima_reproj, _ = reproject_interp((CO_ima, CO_wcs), CO_new_wcs, shape_out=CO_new_shape)\n",
    "\n",
    "HCN_new_shape, HCN_new_wcs, HCN_new_header = reGrid(HCN_hdul, pixelStep) # 用自訂函式進行對齊\n",
    "HCN_ima_reproj, _ = reproject_interp((HCN_ima, HCN_wcs), HCN_new_wcs, shape_out=HCN_new_shape)"
   ]
  },
  {
   "cell_type": "code",
   "execution_count": 5,
   "id": "b33fc3a2",
   "metadata": {},
   "outputs": [
    {
     "name": "stdout",
     "output_type": "stream",
     "text": [
      "Successfully saved a new FITS file as CO(1-0)_mom0_oldData_regrid1.5.fits\n",
      "Successfully saved a new FITS file as HCN(1-0)_mom0_oldData_regrid1.5.fits\n"
     ]
    }
   ],
   "source": [
    "# save regridded plots as FITS\n",
    "\n",
    "Save_as_FITS(\"CO(1-0)_mom0_oldData_regrid1.5\", CO_ima_reproj, CO_new_header, CO_new_header, False)\n",
    "Save_as_FITS(\"HCN(1-0)_mom0_oldData_regrid1.5\", HCN_ima_reproj, HCN_new_header, HCN_new_header, False)"
   ]
  },
  {
   "cell_type": "code",
   "execution_count": 6,
   "id": "c4f3e400",
   "metadata": {},
   "outputs": [
    {
     "data": {
      "text/plain": [
       "'\\nplt.figure(1) \\nplt.subplot(projection=CO_new_wcs)\\nplt.imshow(CO_ima_reproj, cmap=\\'jet\\', vmin=0)\\nplt.colorbar()\\nplt.title(\"CO(1-0) mom0_reprojecteed\")\\nplt.figure(2)\\nplt.subplot(projection=HCN_new_wcs)\\nplt.imshow(HCN_ima_reproj, cmap=\\'jet\\', vmin=0)\\nplt.colorbar()\\nplt.title(\"HCN(1-0) mom0_reprojecteed\")\\n\\nplt.figure(3)\\nplt.subplot(projection=HCN_wcs)\\nplt.imshow(HCN_ima)\\n'"
      ]
     },
     "execution_count": 6,
     "metadata": {},
     "output_type": "execute_result"
    }
   ],
   "source": [
    "# show regridded plots\n",
    "'''\n",
    "plt.figure(1) \n",
    "plt.subplot(projection=CO_new_wcs)\n",
    "plt.imshow(CO_ima_reproj, cmap='jet', vmin=0)\n",
    "plt.colorbar()\n",
    "plt.title(\"CO(1-0) mom0_reprojecteed\")\n",
    "plt.figure(2)\n",
    "plt.subplot(projection=HCN_new_wcs)\n",
    "plt.imshow(HCN_ima_reproj, cmap='jet', vmin=0)\n",
    "plt.colorbar()\n",
    "plt.title(\"HCN(1-0) mom0_reprojecteed\")\n",
    "\n",
    "plt.figure(3)\n",
    "plt.subplot(projection=HCN_wcs)\n",
    "plt.imshow(HCN_ima)\n",
    "'''\n",
    "#plt.show()"
   ]
  },
  {
   "cell_type": "code",
   "execution_count": 7,
   "id": "579494c3",
   "metadata": {},
   "outputs": [
    {
     "name": "stdout",
     "output_type": "stream",
     "text": [
      "initial beams:\n",
      "CO  Beam: BMAJ=2.58261942863448 arcsec BMIN=2.00552678108208 arcsec BPA=69.03997802734 deg\n",
      "HCN Beam: BMAJ=2.8900502045118 arcsec BMIN=2.6833899342286798 arcsec BPA=-18.78534477377 deg\n",
      "THE Beam: BMAJ=3.0 arcsec BMIN=3.0 arcsec BPA=0.0 deg\n",
      "\n",
      "kernel shape: (11, 11)\n",
      "image shape: (106, 106) && (75, 75)\n",
      "** if ur kernel is so much bigger than image, you will get 一坨 :-(\n",
      "\n",
      "Successfully convolved the image !\n"
     ]
    }
   ],
   "source": [
    "# convole to 3*3 beam\n",
    "\n",
    "CO_beam, HCN_beam = Beam.from_fits_header(CO_header), Beam.from_fits_header(HCN_header) # 原始束寬應該和投影過後的束寬一樣\n",
    "# make a 3*3 circle beam\n",
    "pixelScale = 2*u.arcsec ##\n",
    "tarBeam = Beam(major=3*u.arcsec, minor=3*u.arcsec, pa=0*u.deg)\n",
    "kernel = tarBeam.as_kernel(pixscale=pixelScale)\n",
    "CO_ima_final = convolve_fft(CO_ima_reproj, kernel)\n",
    "HCN_ima_final = convolve_fft(HCN_ima_reproj, kernel)\n",
    "\n",
    "print('initial beams:')\n",
    "print('CO ', CO_beam)\n",
    "print('HCN', HCN_beam)\n",
    "print(\"THE\", tarBeam)\n",
    "print()\n",
    "print(f\"kernel shape: {kernel.shape}\")\n",
    "print(f\"image shape: {CO_new_shape} && {HCN_new_shape}\")\n",
    "print('** if ur kernel is so much bigger than image, you will get 一坨 :-(')\n",
    "print()\n",
    "print('Successfully convolved the image !')\n"
   ]
  },
  {
   "cell_type": "code",
   "execution_count": 8,
   "id": "f9bf0190",
   "metadata": {},
   "outputs": [
    {
     "name": "stdout",
     "output_type": "stream",
     "text": [
      "Successfully saved a new FITS file as CO(1-0)_mom0_oldData_regrid1.5_convol33.fits\n",
      "Successfully saved a new FITS file as HCN(1-0)_mom0_oldData_regrid1.5_convol33.fits\n"
     ]
    }
   ],
   "source": [
    "# save convol plots as FITS\n",
    "\n",
    "Save_as_FITS(\"CO(1-0)_mom0_oldData_regrid1.5_convol33\", CO_ima_final, CO_new_header, tarBeam, True)\n",
    "Save_as_FITS(\"HCN(1-0)_mom0_oldData_regrid1.5_convol33\", HCN_ima_final, HCN_new_header, tarBeam, True)"
   ]
  },
  {
   "cell_type": "code",
   "execution_count": 9,
   "id": "6ae948ad",
   "metadata": {},
   "outputs": [
    {
     "data": {
      "text/plain": [
       "'\\nplt.figure(4) \\nplt.subplot(projection=CO_new_wcs)\\nplt.imshow(CO_ima_final, cmap=\\'jet\\', vmin=0)\\nplt.colorbar()\\nplt.title(\"CO(1-0) mom0_reproj_convol\")\\nplt.figure(5)\\nplt.subplot(projection=HCN_new_wcs)\\nplt.imshow(HCN_ima_final, cmap=\\'jet\\', vmin=0)\\nplt.colorbar()\\nplt.title(\"HCN(1-0) mom0_reproj_convol\")\\n\\nplt.figure(6)\\nplt.subplot(projection=HCN_new_wcs)\\nplt.imshow(HCN_ima_reproj, cmap=\\'jet\\', vmin=0)\\nplt.colorbar()\\nplt.title(\"HCN(1-0) mom0_reproj\")\\n'"
      ]
     },
     "execution_count": 9,
     "metadata": {},
     "output_type": "execute_result"
    }
   ],
   "source": [
    "# show convoled plots\n",
    "'''\n",
    "plt.figure(4) \n",
    "plt.subplot(projection=CO_new_wcs)\n",
    "plt.imshow(CO_ima_final, cmap='jet', vmin=0)\n",
    "plt.colorbar()\n",
    "plt.title(\"CO(1-0) mom0_reproj_convol\")\n",
    "plt.figure(5)\n",
    "plt.subplot(projection=HCN_new_wcs)\n",
    "plt.imshow(HCN_ima_final, cmap='jet', vmin=0)\n",
    "plt.colorbar()\n",
    "plt.title(\"HCN(1-0) mom0_reproj_convol\")\n",
    "\n",
    "plt.figure(6)\n",
    "plt.subplot(projection=HCN_new_wcs)\n",
    "plt.imshow(HCN_ima_reproj, cmap='jet', vmin=0)\n",
    "plt.colorbar()\n",
    "plt.title(\"HCN(1-0) mom0_reproj\")\n",
    "'''\n",
    "#plt.show()"
   ]
  },
  {
   "cell_type": "code",
   "execution_count": 10,
   "id": "72f46874",
   "metadata": {},
   "outputs": [],
   "source": [
    "# ratio mappppp\n",
    "\n",
    "# 統一 shape 才能相除\n",
    "HCN_ima_final_reproj, _ = reproject_interp((HCN_ima_final, HCN_new_wcs), CO_new_wcs, shape_out=CO_new_shape)\n",
    "\n",
    "with np.errstate(divide='ignore', invalid='ignore'):\n",
    "    #ratioMap = np.where(CO_ima_final>3*10**(-3), HCN_ima_final_reproj/CO_ima_final, np.nan)\n",
    "    ratioMap = np.where(CO_ima_final!=0, HCN_ima_final_reproj/CO_ima_final, np.nan)"
   ]
  },
  {
   "cell_type": "code",
   "execution_count": 11,
   "id": "e67b5068",
   "metadata": {},
   "outputs": [
    {
     "name": "stdout",
     "output_type": "stream",
     "text": [
      "Successfully saved a new FITS file as HCN-CO_ratio_oldData_regrid1.5_convol33.fits\n"
     ]
    }
   ],
   "source": [
    "# save ratio map as FITS\n",
    "\n",
    "Save_as_FITS(\"HCN-CO_ratio_oldData_regrid1.5_convol33\", ratioMap, CO_new_header, tarBeam, True)"
   ]
  },
  {
   "cell_type": "code",
   "execution_count": 12,
   "id": "225c54d0",
   "metadata": {},
   "outputs": [
    {
     "data": {
      "image/png": "[encoded data removed]",
      "text/plain": [
       "<Figure size 640x480 with 2 Axes>"
      ]
     },
     "metadata": {},
     "output_type": "display_data"
    }
   ],
   "source": [
    "# show the ratio map\n",
    "# 我算的比值就是比較大是三小\n",
    "plt.figure(7)\n",
    "plt.subplot(projection=CO_new_wcs)\n",
    "plt.imshow(ratioMap, origin='lower', cmap='jet', vmin=0, vmax=np.nanpercentile(ratioMap, 88))\n",
    "#plt.imshow(ratioMap, cmap='jet') #inferno\n",
    "#plt.imshow(ratioMap, origin='lower', cmap='jet', vmin=0, vmax=0.28)\n",
    "plt.title(\"HCN / CO\")\n",
    "plt.colorbar()\n",
    "plt.xlabel('RA')\n",
    "plt.ylabel('Dec')\n",
    "plt.show()"
   ]
  }
 ],
 "metadata": {
  "kernelspec": {
   "display_name": "astro_py310",
   "language": "python",
   "name": "python3"
  },
  "language_info": {
   "codemirror_mode": {
    "name": "ipython",
    "version": 3
   },
   "file_extension": ".py",
   "mimetype": "text/x-python",
   "name": "python",
   "nbconvert_exporter": "python",
   "pygments_lexer": "ipython3",
   "version": "3.10.18"
  }
 },
 "nbformat": 4,
 "nbformat_minor": 5
}
